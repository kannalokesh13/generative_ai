{
 "cells": [
  {
   "cell_type": "markdown",
   "metadata": {},
   "source": [
    "### Importing The Libaries"
   ]
  },
  {
   "cell_type": "code",
   "execution_count": 1,
   "metadata": {},
   "outputs": [],
   "source": [
    "import pandas as pd\n",
    "import numpy as np\n",
    "import matplotlib.pyplot as plt\n",
    "import seaborn as sns"
   ]
  },
  {
   "cell_type": "markdown",
   "metadata": {},
   "source": [
    "### Importing The dataset"
   ]
  },
  {
   "cell_type": "code",
   "execution_count": 2,
   "metadata": {},
   "outputs": [],
   "source": [
    "data = pd.read_csv('mcdonalds.csv')"
   ]
  },
  {
   "cell_type": "code",
   "execution_count": 3,
   "metadata": {},
   "outputs": [
    {
     "data": {
      "text/plain": [
       "(1453, 15)"
      ]
     },
     "execution_count": 3,
     "metadata": {},
     "output_type": "execute_result"
    }
   ],
   "source": [
    "data.shape"
   ]
  },
  {
   "cell_type": "code",
   "execution_count": 4,
   "metadata": {},
   "outputs": [
    {
     "data": {
      "text/html": [
       "<div>\n",
       "<style scoped>\n",
       "    .dataframe tbody tr th:only-of-type {\n",
       "        vertical-align: middle;\n",
       "    }\n",
       "\n",
       "    .dataframe tbody tr th {\n",
       "        vertical-align: top;\n",
       "    }\n",
       "\n",
       "    .dataframe thead th {\n",
       "        text-align: right;\n",
       "    }\n",
       "</style>\n",
       "<table border=\"1\" class=\"dataframe\">\n",
       "  <thead>\n",
       "    <tr style=\"text-align: right;\">\n",
       "      <th></th>\n",
       "      <th>yummy</th>\n",
       "      <th>convenient</th>\n",
       "      <th>spicy</th>\n",
       "      <th>fattening</th>\n",
       "      <th>greasy</th>\n",
       "      <th>fast</th>\n",
       "      <th>cheap</th>\n",
       "      <th>tasty</th>\n",
       "      <th>expensive</th>\n",
       "      <th>healthy</th>\n",
       "      <th>disgusting</th>\n",
       "      <th>Like</th>\n",
       "      <th>Age</th>\n",
       "      <th>VisitFrequency</th>\n",
       "      <th>Gender</th>\n",
       "    </tr>\n",
       "  </thead>\n",
       "  <tbody>\n",
       "    <tr>\n",
       "      <th>0</th>\n",
       "      <td>No</td>\n",
       "      <td>Yes</td>\n",
       "      <td>No</td>\n",
       "      <td>Yes</td>\n",
       "      <td>No</td>\n",
       "      <td>Yes</td>\n",
       "      <td>Yes</td>\n",
       "      <td>No</td>\n",
       "      <td>Yes</td>\n",
       "      <td>No</td>\n",
       "      <td>No</td>\n",
       "      <td>-3</td>\n",
       "      <td>61</td>\n",
       "      <td>Every three months</td>\n",
       "      <td>Female</td>\n",
       "    </tr>\n",
       "    <tr>\n",
       "      <th>1</th>\n",
       "      <td>Yes</td>\n",
       "      <td>Yes</td>\n",
       "      <td>No</td>\n",
       "      <td>Yes</td>\n",
       "      <td>Yes</td>\n",
       "      <td>Yes</td>\n",
       "      <td>Yes</td>\n",
       "      <td>Yes</td>\n",
       "      <td>Yes</td>\n",
       "      <td>No</td>\n",
       "      <td>No</td>\n",
       "      <td>+2</td>\n",
       "      <td>51</td>\n",
       "      <td>Every three months</td>\n",
       "      <td>Female</td>\n",
       "    </tr>\n",
       "    <tr>\n",
       "      <th>2</th>\n",
       "      <td>No</td>\n",
       "      <td>Yes</td>\n",
       "      <td>Yes</td>\n",
       "      <td>Yes</td>\n",
       "      <td>Yes</td>\n",
       "      <td>Yes</td>\n",
       "      <td>No</td>\n",
       "      <td>Yes</td>\n",
       "      <td>Yes</td>\n",
       "      <td>Yes</td>\n",
       "      <td>No</td>\n",
       "      <td>+1</td>\n",
       "      <td>62</td>\n",
       "      <td>Every three months</td>\n",
       "      <td>Female</td>\n",
       "    </tr>\n",
       "    <tr>\n",
       "      <th>3</th>\n",
       "      <td>Yes</td>\n",
       "      <td>Yes</td>\n",
       "      <td>No</td>\n",
       "      <td>Yes</td>\n",
       "      <td>Yes</td>\n",
       "      <td>Yes</td>\n",
       "      <td>Yes</td>\n",
       "      <td>Yes</td>\n",
       "      <td>No</td>\n",
       "      <td>No</td>\n",
       "      <td>Yes</td>\n",
       "      <td>+4</td>\n",
       "      <td>69</td>\n",
       "      <td>Once a week</td>\n",
       "      <td>Female</td>\n",
       "    </tr>\n",
       "    <tr>\n",
       "      <th>4</th>\n",
       "      <td>No</td>\n",
       "      <td>Yes</td>\n",
       "      <td>No</td>\n",
       "      <td>Yes</td>\n",
       "      <td>Yes</td>\n",
       "      <td>Yes</td>\n",
       "      <td>Yes</td>\n",
       "      <td>No</td>\n",
       "      <td>No</td>\n",
       "      <td>Yes</td>\n",
       "      <td>No</td>\n",
       "      <td>+2</td>\n",
       "      <td>49</td>\n",
       "      <td>Once a month</td>\n",
       "      <td>Male</td>\n",
       "    </tr>\n",
       "  </tbody>\n",
       "</table>\n",
       "</div>"
      ],
      "text/plain": [
       "  yummy convenient spicy fattening greasy fast cheap tasty expensive healthy  \\\n",
       "0    No        Yes    No       Yes     No  Yes   Yes    No       Yes      No   \n",
       "1   Yes        Yes    No       Yes    Yes  Yes   Yes   Yes       Yes      No   \n",
       "2    No        Yes   Yes       Yes    Yes  Yes    No   Yes       Yes     Yes   \n",
       "3   Yes        Yes    No       Yes    Yes  Yes   Yes   Yes        No      No   \n",
       "4    No        Yes    No       Yes    Yes  Yes   Yes    No        No     Yes   \n",
       "\n",
       "  disgusting Like  Age      VisitFrequency  Gender  \n",
       "0         No   -3   61  Every three months  Female  \n",
       "1         No   +2   51  Every three months  Female  \n",
       "2         No   +1   62  Every three months  Female  \n",
       "3        Yes   +4   69         Once a week  Female  \n",
       "4         No   +2   49        Once a month    Male  "
      ]
     },
     "execution_count": 4,
     "metadata": {},
     "output_type": "execute_result"
    }
   ],
   "source": [
    "data.head()"
   ]
  },
  {
   "cell_type": "code",
   "execution_count": 5,
   "metadata": {},
   "outputs": [
    {
     "name": "stdout",
     "output_type": "stream",
     "text": [
      "<class 'pandas.core.frame.DataFrame'>\n",
      "RangeIndex: 1453 entries, 0 to 1452\n",
      "Data columns (total 15 columns):\n",
      " #   Column          Non-Null Count  Dtype \n",
      "---  ------          --------------  ----- \n",
      " 0   yummy           1453 non-null   object\n",
      " 1   convenient      1453 non-null   object\n",
      " 2   spicy           1453 non-null   object\n",
      " 3   fattening       1453 non-null   object\n",
      " 4   greasy          1453 non-null   object\n",
      " 5   fast            1453 non-null   object\n",
      " 6   cheap           1453 non-null   object\n",
      " 7   tasty           1453 non-null   object\n",
      " 8   expensive       1453 non-null   object\n",
      " 9   healthy         1453 non-null   object\n",
      " 10  disgusting      1453 non-null   object\n",
      " 11  Like            1453 non-null   object\n",
      " 12  Age             1453 non-null   int64 \n",
      " 13  VisitFrequency  1453 non-null   object\n",
      " 14  Gender          1453 non-null   object\n",
      "dtypes: int64(1), object(14)\n",
      "memory usage: 170.4+ KB\n"
     ]
    }
   ],
   "source": [
    "data.info()"
   ]
  },
  {
   "cell_type": "markdown",
   "metadata": {},
   "source": [
    "### checking For Duplicates"
   ]
  },
  {
   "cell_type": "code",
   "execution_count": 6,
   "metadata": {},
   "outputs": [
    {
     "data": {
      "text/html": [
       "<div>\n",
       "<style scoped>\n",
       "    .dataframe tbody tr th:only-of-type {\n",
       "        vertical-align: middle;\n",
       "    }\n",
       "\n",
       "    .dataframe tbody tr th {\n",
       "        vertical-align: top;\n",
       "    }\n",
       "\n",
       "    .dataframe thead th {\n",
       "        text-align: right;\n",
       "    }\n",
       "</style>\n",
       "<table border=\"1\" class=\"dataframe\">\n",
       "  <thead>\n",
       "    <tr style=\"text-align: right;\">\n",
       "      <th></th>\n",
       "      <th>yummy</th>\n",
       "      <th>convenient</th>\n",
       "      <th>spicy</th>\n",
       "      <th>fattening</th>\n",
       "      <th>greasy</th>\n",
       "      <th>fast</th>\n",
       "      <th>cheap</th>\n",
       "      <th>tasty</th>\n",
       "      <th>expensive</th>\n",
       "      <th>healthy</th>\n",
       "      <th>disgusting</th>\n",
       "      <th>Like</th>\n",
       "      <th>Age</th>\n",
       "      <th>VisitFrequency</th>\n",
       "      <th>Gender</th>\n",
       "    </tr>\n",
       "  </thead>\n",
       "  <tbody>\n",
       "    <tr>\n",
       "      <th>404</th>\n",
       "      <td>Yes</td>\n",
       "      <td>Yes</td>\n",
       "      <td>No</td>\n",
       "      <td>No</td>\n",
       "      <td>No</td>\n",
       "      <td>Yes</td>\n",
       "      <td>Yes</td>\n",
       "      <td>Yes</td>\n",
       "      <td>No</td>\n",
       "      <td>Yes</td>\n",
       "      <td>No</td>\n",
       "      <td>I love it!+5</td>\n",
       "      <td>50</td>\n",
       "      <td>Once a week</td>\n",
       "      <td>Female</td>\n",
       "    </tr>\n",
       "    <tr>\n",
       "      <th>421</th>\n",
       "      <td>Yes</td>\n",
       "      <td>Yes</td>\n",
       "      <td>No</td>\n",
       "      <td>Yes</td>\n",
       "      <td>Yes</td>\n",
       "      <td>Yes</td>\n",
       "      <td>No</td>\n",
       "      <td>Yes</td>\n",
       "      <td>Yes</td>\n",
       "      <td>No</td>\n",
       "      <td>No</td>\n",
       "      <td>+3</td>\n",
       "      <td>25</td>\n",
       "      <td>Once a month</td>\n",
       "      <td>Male</td>\n",
       "    </tr>\n",
       "    <tr>\n",
       "      <th>441</th>\n",
       "      <td>No</td>\n",
       "      <td>Yes</td>\n",
       "      <td>No</td>\n",
       "      <td>Yes</td>\n",
       "      <td>No</td>\n",
       "      <td>Yes</td>\n",
       "      <td>Yes</td>\n",
       "      <td>No</td>\n",
       "      <td>No</td>\n",
       "      <td>No</td>\n",
       "      <td>No</td>\n",
       "      <td>+2</td>\n",
       "      <td>62</td>\n",
       "      <td>Every three months</td>\n",
       "      <td>Female</td>\n",
       "    </tr>\n",
       "    <tr>\n",
       "      <th>453</th>\n",
       "      <td>Yes</td>\n",
       "      <td>Yes</td>\n",
       "      <td>No</td>\n",
       "      <td>Yes</td>\n",
       "      <td>No</td>\n",
       "      <td>Yes</td>\n",
       "      <td>No</td>\n",
       "      <td>Yes</td>\n",
       "      <td>Yes</td>\n",
       "      <td>No</td>\n",
       "      <td>No</td>\n",
       "      <td>+2</td>\n",
       "      <td>43</td>\n",
       "      <td>Every three months</td>\n",
       "      <td>Female</td>\n",
       "    </tr>\n",
       "    <tr>\n",
       "      <th>598</th>\n",
       "      <td>No</td>\n",
       "      <td>Yes</td>\n",
       "      <td>No</td>\n",
       "      <td>Yes</td>\n",
       "      <td>Yes</td>\n",
       "      <td>Yes</td>\n",
       "      <td>Yes</td>\n",
       "      <td>No</td>\n",
       "      <td>No</td>\n",
       "      <td>No</td>\n",
       "      <td>Yes</td>\n",
       "      <td>I hate it!-5</td>\n",
       "      <td>59</td>\n",
       "      <td>Never</td>\n",
       "      <td>Female</td>\n",
       "    </tr>\n",
       "    <tr>\n",
       "      <th>674</th>\n",
       "      <td>Yes</td>\n",
       "      <td>Yes</td>\n",
       "      <td>No</td>\n",
       "      <td>Yes</td>\n",
       "      <td>Yes</td>\n",
       "      <td>Yes</td>\n",
       "      <td>Yes</td>\n",
       "      <td>Yes</td>\n",
       "      <td>No</td>\n",
       "      <td>No</td>\n",
       "      <td>No</td>\n",
       "      <td>I love it!+5</td>\n",
       "      <td>26</td>\n",
       "      <td>More than once a week</td>\n",
       "      <td>Female</td>\n",
       "    </tr>\n",
       "    <tr>\n",
       "      <th>710</th>\n",
       "      <td>Yes</td>\n",
       "      <td>Yes</td>\n",
       "      <td>No</td>\n",
       "      <td>Yes</td>\n",
       "      <td>No</td>\n",
       "      <td>Yes</td>\n",
       "      <td>Yes</td>\n",
       "      <td>Yes</td>\n",
       "      <td>No</td>\n",
       "      <td>No</td>\n",
       "      <td>No</td>\n",
       "      <td>+4</td>\n",
       "      <td>49</td>\n",
       "      <td>Once a week</td>\n",
       "      <td>Female</td>\n",
       "    </tr>\n",
       "    <tr>\n",
       "      <th>725</th>\n",
       "      <td>No</td>\n",
       "      <td>Yes</td>\n",
       "      <td>No</td>\n",
       "      <td>Yes</td>\n",
       "      <td>Yes</td>\n",
       "      <td>Yes</td>\n",
       "      <td>Yes</td>\n",
       "      <td>No</td>\n",
       "      <td>No</td>\n",
       "      <td>No</td>\n",
       "      <td>No</td>\n",
       "      <td>0</td>\n",
       "      <td>42</td>\n",
       "      <td>Once a month</td>\n",
       "      <td>Female</td>\n",
       "    </tr>\n",
       "    <tr>\n",
       "      <th>741</th>\n",
       "      <td>Yes</td>\n",
       "      <td>Yes</td>\n",
       "      <td>No</td>\n",
       "      <td>Yes</td>\n",
       "      <td>Yes</td>\n",
       "      <td>Yes</td>\n",
       "      <td>Yes</td>\n",
       "      <td>Yes</td>\n",
       "      <td>No</td>\n",
       "      <td>No</td>\n",
       "      <td>No</td>\n",
       "      <td>+2</td>\n",
       "      <td>21</td>\n",
       "      <td>Every three months</td>\n",
       "      <td>Female</td>\n",
       "    </tr>\n",
       "    <tr>\n",
       "      <th>744</th>\n",
       "      <td>Yes</td>\n",
       "      <td>Yes</td>\n",
       "      <td>No</td>\n",
       "      <td>Yes</td>\n",
       "      <td>Yes</td>\n",
       "      <td>Yes</td>\n",
       "      <td>Yes</td>\n",
       "      <td>Yes</td>\n",
       "      <td>No</td>\n",
       "      <td>No</td>\n",
       "      <td>No</td>\n",
       "      <td>I love it!+5</td>\n",
       "      <td>18</td>\n",
       "      <td>Once a week</td>\n",
       "      <td>Female</td>\n",
       "    </tr>\n",
       "    <tr>\n",
       "      <th>745</th>\n",
       "      <td>Yes</td>\n",
       "      <td>Yes</td>\n",
       "      <td>No</td>\n",
       "      <td>Yes</td>\n",
       "      <td>Yes</td>\n",
       "      <td>Yes</td>\n",
       "      <td>Yes</td>\n",
       "      <td>Yes</td>\n",
       "      <td>No</td>\n",
       "      <td>No</td>\n",
       "      <td>No</td>\n",
       "      <td>+2</td>\n",
       "      <td>20</td>\n",
       "      <td>Once a month</td>\n",
       "      <td>Male</td>\n",
       "    </tr>\n",
       "    <tr>\n",
       "      <th>774</th>\n",
       "      <td>Yes</td>\n",
       "      <td>Yes</td>\n",
       "      <td>No</td>\n",
       "      <td>Yes</td>\n",
       "      <td>No</td>\n",
       "      <td>Yes</td>\n",
       "      <td>Yes</td>\n",
       "      <td>Yes</td>\n",
       "      <td>No</td>\n",
       "      <td>No</td>\n",
       "      <td>No</td>\n",
       "      <td>+4</td>\n",
       "      <td>38</td>\n",
       "      <td>Once a month</td>\n",
       "      <td>Female</td>\n",
       "    </tr>\n",
       "    <tr>\n",
       "      <th>799</th>\n",
       "      <td>Yes</td>\n",
       "      <td>Yes</td>\n",
       "      <td>No</td>\n",
       "      <td>Yes</td>\n",
       "      <td>No</td>\n",
       "      <td>Yes</td>\n",
       "      <td>No</td>\n",
       "      <td>Yes</td>\n",
       "      <td>Yes</td>\n",
       "      <td>No</td>\n",
       "      <td>No</td>\n",
       "      <td>+2</td>\n",
       "      <td>55</td>\n",
       "      <td>Once a month</td>\n",
       "      <td>Male</td>\n",
       "    </tr>\n",
       "    <tr>\n",
       "      <th>971</th>\n",
       "      <td>Yes</td>\n",
       "      <td>Yes</td>\n",
       "      <td>No</td>\n",
       "      <td>Yes</td>\n",
       "      <td>No</td>\n",
       "      <td>Yes</td>\n",
       "      <td>No</td>\n",
       "      <td>Yes</td>\n",
       "      <td>Yes</td>\n",
       "      <td>No</td>\n",
       "      <td>No</td>\n",
       "      <td>+2</td>\n",
       "      <td>33</td>\n",
       "      <td>Once a month</td>\n",
       "      <td>Female</td>\n",
       "    </tr>\n",
       "    <tr>\n",
       "      <th>1001</th>\n",
       "      <td>Yes</td>\n",
       "      <td>Yes</td>\n",
       "      <td>No</td>\n",
       "      <td>Yes</td>\n",
       "      <td>No</td>\n",
       "      <td>Yes</td>\n",
       "      <td>Yes</td>\n",
       "      <td>Yes</td>\n",
       "      <td>No</td>\n",
       "      <td>No</td>\n",
       "      <td>No</td>\n",
       "      <td>+4</td>\n",
       "      <td>38</td>\n",
       "      <td>Once a month</td>\n",
       "      <td>Female</td>\n",
       "    </tr>\n",
       "    <tr>\n",
       "      <th>1060</th>\n",
       "      <td>No</td>\n",
       "      <td>No</td>\n",
       "      <td>No</td>\n",
       "      <td>Yes</td>\n",
       "      <td>Yes</td>\n",
       "      <td>Yes</td>\n",
       "      <td>Yes</td>\n",
       "      <td>No</td>\n",
       "      <td>No</td>\n",
       "      <td>No</td>\n",
       "      <td>Yes</td>\n",
       "      <td>-4</td>\n",
       "      <td>64</td>\n",
       "      <td>Never</td>\n",
       "      <td>Female</td>\n",
       "    </tr>\n",
       "    <tr>\n",
       "      <th>1070</th>\n",
       "      <td>Yes</td>\n",
       "      <td>Yes</td>\n",
       "      <td>No</td>\n",
       "      <td>Yes</td>\n",
       "      <td>No</td>\n",
       "      <td>Yes</td>\n",
       "      <td>Yes</td>\n",
       "      <td>Yes</td>\n",
       "      <td>No</td>\n",
       "      <td>No</td>\n",
       "      <td>No</td>\n",
       "      <td>+3</td>\n",
       "      <td>51</td>\n",
       "      <td>Once a month</td>\n",
       "      <td>Male</td>\n",
       "    </tr>\n",
       "    <tr>\n",
       "      <th>1130</th>\n",
       "      <td>Yes</td>\n",
       "      <td>Yes</td>\n",
       "      <td>No</td>\n",
       "      <td>Yes</td>\n",
       "      <td>Yes</td>\n",
       "      <td>Yes</td>\n",
       "      <td>Yes</td>\n",
       "      <td>Yes</td>\n",
       "      <td>No</td>\n",
       "      <td>No</td>\n",
       "      <td>No</td>\n",
       "      <td>+4</td>\n",
       "      <td>30</td>\n",
       "      <td>Once a month</td>\n",
       "      <td>Female</td>\n",
       "    </tr>\n",
       "    <tr>\n",
       "      <th>1319</th>\n",
       "      <td>Yes</td>\n",
       "      <td>Yes</td>\n",
       "      <td>No</td>\n",
       "      <td>No</td>\n",
       "      <td>No</td>\n",
       "      <td>Yes</td>\n",
       "      <td>Yes</td>\n",
       "      <td>Yes</td>\n",
       "      <td>No</td>\n",
       "      <td>Yes</td>\n",
       "      <td>No</td>\n",
       "      <td>+3</td>\n",
       "      <td>64</td>\n",
       "      <td>Once a month</td>\n",
       "      <td>Female</td>\n",
       "    </tr>\n",
       "    <tr>\n",
       "      <th>1373</th>\n",
       "      <td>Yes</td>\n",
       "      <td>Yes</td>\n",
       "      <td>No</td>\n",
       "      <td>Yes</td>\n",
       "      <td>Yes</td>\n",
       "      <td>Yes</td>\n",
       "      <td>Yes</td>\n",
       "      <td>Yes</td>\n",
       "      <td>No</td>\n",
       "      <td>No</td>\n",
       "      <td>No</td>\n",
       "      <td>+2</td>\n",
       "      <td>20</td>\n",
       "      <td>Once a month</td>\n",
       "      <td>Male</td>\n",
       "    </tr>\n",
       "    <tr>\n",
       "      <th>1378</th>\n",
       "      <td>No</td>\n",
       "      <td>Yes</td>\n",
       "      <td>No</td>\n",
       "      <td>Yes</td>\n",
       "      <td>Yes</td>\n",
       "      <td>Yes</td>\n",
       "      <td>Yes</td>\n",
       "      <td>No</td>\n",
       "      <td>No</td>\n",
       "      <td>No</td>\n",
       "      <td>Yes</td>\n",
       "      <td>I hate it!-5</td>\n",
       "      <td>59</td>\n",
       "      <td>Never</td>\n",
       "      <td>Female</td>\n",
       "    </tr>\n",
       "    <tr>\n",
       "      <th>1423</th>\n",
       "      <td>Yes</td>\n",
       "      <td>Yes</td>\n",
       "      <td>No</td>\n",
       "      <td>Yes</td>\n",
       "      <td>No</td>\n",
       "      <td>Yes</td>\n",
       "      <td>Yes</td>\n",
       "      <td>Yes</td>\n",
       "      <td>No</td>\n",
       "      <td>No</td>\n",
       "      <td>No</td>\n",
       "      <td>+3</td>\n",
       "      <td>41</td>\n",
       "      <td>Once a month</td>\n",
       "      <td>Male</td>\n",
       "    </tr>\n",
       "  </tbody>\n",
       "</table>\n",
       "</div>"
      ],
      "text/plain": [
       "     yummy convenient spicy fattening greasy fast cheap tasty expensive  \\\n",
       "404    Yes        Yes    No        No     No  Yes   Yes   Yes        No   \n",
       "421    Yes        Yes    No       Yes    Yes  Yes    No   Yes       Yes   \n",
       "441     No        Yes    No       Yes     No  Yes   Yes    No        No   \n",
       "453    Yes        Yes    No       Yes     No  Yes    No   Yes       Yes   \n",
       "598     No        Yes    No       Yes    Yes  Yes   Yes    No        No   \n",
       "674    Yes        Yes    No       Yes    Yes  Yes   Yes   Yes        No   \n",
       "710    Yes        Yes    No       Yes     No  Yes   Yes   Yes        No   \n",
       "725     No        Yes    No       Yes    Yes  Yes   Yes    No        No   \n",
       "741    Yes        Yes    No       Yes    Yes  Yes   Yes   Yes        No   \n",
       "744    Yes        Yes    No       Yes    Yes  Yes   Yes   Yes        No   \n",
       "745    Yes        Yes    No       Yes    Yes  Yes   Yes   Yes        No   \n",
       "774    Yes        Yes    No       Yes     No  Yes   Yes   Yes        No   \n",
       "799    Yes        Yes    No       Yes     No  Yes    No   Yes       Yes   \n",
       "971    Yes        Yes    No       Yes     No  Yes    No   Yes       Yes   \n",
       "1001   Yes        Yes    No       Yes     No  Yes   Yes   Yes        No   \n",
       "1060    No         No    No       Yes    Yes  Yes   Yes    No        No   \n",
       "1070   Yes        Yes    No       Yes     No  Yes   Yes   Yes        No   \n",
       "1130   Yes        Yes    No       Yes    Yes  Yes   Yes   Yes        No   \n",
       "1319   Yes        Yes    No        No     No  Yes   Yes   Yes        No   \n",
       "1373   Yes        Yes    No       Yes    Yes  Yes   Yes   Yes        No   \n",
       "1378    No        Yes    No       Yes    Yes  Yes   Yes    No        No   \n",
       "1423   Yes        Yes    No       Yes     No  Yes   Yes   Yes        No   \n",
       "\n",
       "     healthy disgusting          Like  Age         VisitFrequency  Gender  \n",
       "404      Yes         No  I love it!+5   50            Once a week  Female  \n",
       "421       No         No            +3   25           Once a month    Male  \n",
       "441       No         No            +2   62     Every three months  Female  \n",
       "453       No         No            +2   43     Every three months  Female  \n",
       "598       No        Yes  I hate it!-5   59                  Never  Female  \n",
       "674       No         No  I love it!+5   26  More than once a week  Female  \n",
       "710       No         No            +4   49            Once a week  Female  \n",
       "725       No         No             0   42           Once a month  Female  \n",
       "741       No         No            +2   21     Every three months  Female  \n",
       "744       No         No  I love it!+5   18            Once a week  Female  \n",
       "745       No         No            +2   20           Once a month    Male  \n",
       "774       No         No            +4   38           Once a month  Female  \n",
       "799       No         No            +2   55           Once a month    Male  \n",
       "971       No         No            +2   33           Once a month  Female  \n",
       "1001      No         No            +4   38           Once a month  Female  \n",
       "1060      No        Yes            -4   64                  Never  Female  \n",
       "1070      No         No            +3   51           Once a month    Male  \n",
       "1130      No         No            +4   30           Once a month  Female  \n",
       "1319     Yes         No            +3   64           Once a month  Female  \n",
       "1373      No         No            +2   20           Once a month    Male  \n",
       "1378      No        Yes  I hate it!-5   59                  Never  Female  \n",
       "1423      No         No            +3   41           Once a month    Male  "
      ]
     },
     "execution_count": 6,
     "metadata": {},
     "output_type": "execute_result"
    }
   ],
   "source": [
    "data[data.duplicated()]"
   ]
  },
  {
   "cell_type": "code",
   "execution_count": 7,
   "metadata": {},
   "outputs": [],
   "source": [
    "data.drop_duplicates(inplace=True)"
   ]
  },
  {
   "cell_type": "code",
   "execution_count": 8,
   "metadata": {},
   "outputs": [
    {
     "data": {
      "text/html": [
       "<div>\n",
       "<style scoped>\n",
       "    .dataframe tbody tr th:only-of-type {\n",
       "        vertical-align: middle;\n",
       "    }\n",
       "\n",
       "    .dataframe tbody tr th {\n",
       "        vertical-align: top;\n",
       "    }\n",
       "\n",
       "    .dataframe thead th {\n",
       "        text-align: right;\n",
       "    }\n",
       "</style>\n",
       "<table border=\"1\" class=\"dataframe\">\n",
       "  <thead>\n",
       "    <tr style=\"text-align: right;\">\n",
       "      <th></th>\n",
       "      <th>yummy</th>\n",
       "      <th>convenient</th>\n",
       "      <th>spicy</th>\n",
       "      <th>fattening</th>\n",
       "      <th>greasy</th>\n",
       "      <th>fast</th>\n",
       "      <th>cheap</th>\n",
       "      <th>tasty</th>\n",
       "      <th>expensive</th>\n",
       "      <th>healthy</th>\n",
       "      <th>disgusting</th>\n",
       "      <th>Like</th>\n",
       "      <th>Age</th>\n",
       "      <th>VisitFrequency</th>\n",
       "      <th>Gender</th>\n",
       "    </tr>\n",
       "  </thead>\n",
       "  <tbody>\n",
       "  </tbody>\n",
       "</table>\n",
       "</div>"
      ],
      "text/plain": [
       "Empty DataFrame\n",
       "Columns: [yummy, convenient, spicy, fattening, greasy, fast, cheap, tasty, expensive, healthy, disgusting, Like, Age, VisitFrequency, Gender]\n",
       "Index: []"
      ]
     },
     "execution_count": 8,
     "metadata": {},
     "output_type": "execute_result"
    }
   ],
   "source": [
    "data[data.duplicated()]"
   ]
  },
  {
   "cell_type": "code",
   "execution_count": 9,
   "metadata": {},
   "outputs": [],
   "source": [
    "cat_col = [feature for feature in data.columns if data[feature].dtype=='O']\n",
    "num_col = [feature for feature in data.columns if data[feature].dtype!='O']"
   ]
  },
  {
   "cell_type": "code",
   "execution_count": 10,
   "metadata": {},
   "outputs": [
    {
     "name": "stdout",
     "output_type": "stream",
     "text": [
      "['yummy', 'convenient', 'spicy', 'fattening', 'greasy', 'fast', 'cheap', 'tasty', 'expensive', 'healthy', 'disgusting', 'Like', 'VisitFrequency', 'Gender']\n",
      "['Age']\n"
     ]
    }
   ],
   "source": [
    "print(cat_col)\n",
    "print(num_col)"
   ]
  },
  {
   "cell_type": "markdown",
   "metadata": {},
   "source": [
    "### Analysing The Data"
   ]
  },
  {
   "cell_type": "code",
   "execution_count": 11,
   "metadata": {},
   "outputs": [
    {
     "data": {
      "image/png": "[encoded data removed]",
      "text/plain": [
       "<Figure size 1440x2160 with 15 Axes>"
      ]
     },
     "metadata": {
      "needs_background": "light"
     },
     "output_type": "display_data"
    }
   ],
   "source": [
    "# defining a function to perform EDA\n",
    "def EDA(data,figuresize):\n",
    "    from warnings import filterwarnings\n",
    "    filterwarnings(\"ignore\")\n",
    "    u = int((data.shape[1]+1)/2)\n",
    "    plt.figure(figsize=figuresize)\n",
    "    x = 1\n",
    "\n",
    "    for i in cat_col:\n",
    "        plt.subplot(u,2,x)\n",
    "        x = x+1\n",
    "        sns.countplot(data[i])\n",
    "    for j in num_col:\n",
    "        plt.subplot(u,2,x)\n",
    "        x = x+1\n",
    "        sns.distplot(data[j])\n",
    "\n",
    "\n",
    "# applying the function on the dataset\n",
    "EDA(data, (20, 30))"
   ]
  },
  {
   "cell_type": "code",
   "execution_count": 12,
   "metadata": {},
   "outputs": [],
   "source": [
    "data.drop(['Age','Like','VisitFrequency'],axis=1,inplace=True)"
   ]
  },
  {
   "cell_type": "code",
   "execution_count": 13,
   "metadata": {},
   "outputs": [
    {
     "data": {
      "text/html": [
       "<div>\n",
       "<style scoped>\n",
       "    .dataframe tbody tr th:only-of-type {\n",
       "        vertical-align: middle;\n",
       "    }\n",
       "\n",
       "    .dataframe tbody tr th {\n",
       "        vertical-align: top;\n",
       "    }\n",
       "\n",
       "    .dataframe thead th {\n",
       "        text-align: right;\n",
       "    }\n",
       "</style>\n",
       "<table border=\"1\" class=\"dataframe\">\n",
       "  <thead>\n",
       "    <tr style=\"text-align: right;\">\n",
       "      <th></th>\n",
       "      <th>yummy</th>\n",
       "      <th>convenient</th>\n",
       "      <th>spicy</th>\n",
       "      <th>fattening</th>\n",
       "      <th>greasy</th>\n",
       "      <th>fast</th>\n",
       "      <th>cheap</th>\n",
       "      <th>tasty</th>\n",
       "      <th>expensive</th>\n",
       "      <th>healthy</th>\n",
       "      <th>disgusting</th>\n",
       "      <th>Gender</th>\n",
       "    </tr>\n",
       "  </thead>\n",
       "  <tbody>\n",
       "    <tr>\n",
       "      <th>0</th>\n",
       "      <td>No</td>\n",
       "      <td>Yes</td>\n",
       "      <td>No</td>\n",
       "      <td>Yes</td>\n",
       "      <td>No</td>\n",
       "      <td>Yes</td>\n",
       "      <td>Yes</td>\n",
       "      <td>No</td>\n",
       "      <td>Yes</td>\n",
       "      <td>No</td>\n",
       "      <td>No</td>\n",
       "      <td>Female</td>\n",
       "    </tr>\n",
       "    <tr>\n",
       "      <th>1</th>\n",
       "      <td>Yes</td>\n",
       "      <td>Yes</td>\n",
       "      <td>No</td>\n",
       "      <td>Yes</td>\n",
       "      <td>Yes</td>\n",
       "      <td>Yes</td>\n",
       "      <td>Yes</td>\n",
       "      <td>Yes</td>\n",
       "      <td>Yes</td>\n",
       "      <td>No</td>\n",
       "      <td>No</td>\n",
       "      <td>Female</td>\n",
       "    </tr>\n",
       "    <tr>\n",
       "      <th>2</th>\n",
       "      <td>No</td>\n",
       "      <td>Yes</td>\n",
       "      <td>Yes</td>\n",
       "      <td>Yes</td>\n",
       "      <td>Yes</td>\n",
       "      <td>Yes</td>\n",
       "      <td>No</td>\n",
       "      <td>Yes</td>\n",
       "      <td>Yes</td>\n",
       "      <td>Yes</td>\n",
       "      <td>No</td>\n",
       "      <td>Female</td>\n",
       "    </tr>\n",
       "    <tr>\n",
       "      <th>3</th>\n",
       "      <td>Yes</td>\n",
       "      <td>Yes</td>\n",
       "      <td>No</td>\n",
       "      <td>Yes</td>\n",
       "      <td>Yes</td>\n",
       "      <td>Yes</td>\n",
       "      <td>Yes</td>\n",
       "      <td>Yes</td>\n",
       "      <td>No</td>\n",
       "      <td>No</td>\n",
       "      <td>Yes</td>\n",
       "      <td>Female</td>\n",
       "    </tr>\n",
       "    <tr>\n",
       "      <th>4</th>\n",
       "      <td>No</td>\n",
       "      <td>Yes</td>\n",
       "      <td>No</td>\n",
       "      <td>Yes</td>\n",
       "      <td>Yes</td>\n",
       "      <td>Yes</td>\n",
       "      <td>Yes</td>\n",
       "      <td>No</td>\n",
       "      <td>No</td>\n",
       "      <td>Yes</td>\n",
       "      <td>No</td>\n",
       "      <td>Male</td>\n",
       "    </tr>\n",
       "  </tbody>\n",
       "</table>\n",
       "</div>"
      ],
      "text/plain": [
       "  yummy convenient spicy fattening greasy fast cheap tasty expensive healthy  \\\n",
       "0    No        Yes    No       Yes     No  Yes   Yes    No       Yes      No   \n",
       "1   Yes        Yes    No       Yes    Yes  Yes   Yes   Yes       Yes      No   \n",
       "2    No        Yes   Yes       Yes    Yes  Yes    No   Yes       Yes     Yes   \n",
       "3   Yes        Yes    No       Yes    Yes  Yes   Yes   Yes        No      No   \n",
       "4    No        Yes    No       Yes    Yes  Yes   Yes    No        No     Yes   \n",
       "\n",
       "  disgusting  Gender  \n",
       "0         No  Female  \n",
       "1         No  Female  \n",
       "2         No  Female  \n",
       "3        Yes  Female  \n",
       "4         No    Male  "
      ]
     },
     "execution_count": 13,
     "metadata": {},
     "output_type": "execute_result"
    }
   ],
   "source": [
    "data.head()"
   ]
  },
  {
   "cell_type": "markdown",
   "metadata": {},
   "source": [
    "### Encodin The Data"
   ]
  },
  {
   "cell_type": "code",
   "execution_count": 14,
   "metadata": {},
   "outputs": [],
   "source": [
    "from sklearn.preprocessing import LabelEncoder\n",
    "preprocessed_data = data.apply(LabelEncoder().fit_transform)"
   ]
  },
  {
   "cell_type": "code",
   "execution_count": 15,
   "metadata": {},
   "outputs": [
    {
     "data": {
      "text/html": [
       "<div>\n",
       "<style scoped>\n",
       "    .dataframe tbody tr th:only-of-type {\n",
       "        vertical-align: middle;\n",
       "    }\n",
       "\n",
       "    .dataframe tbody tr th {\n",
       "        vertical-align: top;\n",
       "    }\n",
       "\n",
       "    .dataframe thead th {\n",
       "        text-align: right;\n",
       "    }\n",
       "</style>\n",
       "<table border=\"1\" class=\"dataframe\">\n",
       "  <thead>\n",
       "    <tr style=\"text-align: right;\">\n",
       "      <th></th>\n",
       "      <th>yummy</th>\n",
       "      <th>convenient</th>\n",
       "      <th>spicy</th>\n",
       "      <th>fattening</th>\n",
       "      <th>greasy</th>\n",
       "      <th>fast</th>\n",
       "      <th>cheap</th>\n",
       "      <th>tasty</th>\n",
       "      <th>expensive</th>\n",
       "      <th>healthy</th>\n",
       "      <th>disgusting</th>\n",
       "      <th>Gender</th>\n",
       "    </tr>\n",
       "  </thead>\n",
       "  <tbody>\n",
       "    <tr>\n",
       "      <th>0</th>\n",
       "      <td>0</td>\n",
       "      <td>1</td>\n",
       "      <td>0</td>\n",
       "      <td>1</td>\n",
       "      <td>0</td>\n",
       "      <td>1</td>\n",
       "      <td>1</td>\n",
       "      <td>0</td>\n",
       "      <td>1</td>\n",
       "      <td>0</td>\n",
       "      <td>0</td>\n",
       "      <td>0</td>\n",
       "    </tr>\n",
       "    <tr>\n",
       "      <th>1</th>\n",
       "      <td>1</td>\n",
       "      <td>1</td>\n",
       "      <td>0</td>\n",
       "      <td>1</td>\n",
       "      <td>1</td>\n",
       "      <td>1</td>\n",
       "      <td>1</td>\n",
       "      <td>1</td>\n",
       "      <td>1</td>\n",
       "      <td>0</td>\n",
       "      <td>0</td>\n",
       "      <td>0</td>\n",
       "    </tr>\n",
       "    <tr>\n",
       "      <th>2</th>\n",
       "      <td>0</td>\n",
       "      <td>1</td>\n",
       "      <td>1</td>\n",
       "      <td>1</td>\n",
       "      <td>1</td>\n",
       "      <td>1</td>\n",
       "      <td>0</td>\n",
       "      <td>1</td>\n",
       "      <td>1</td>\n",
       "      <td>1</td>\n",
       "      <td>0</td>\n",
       "      <td>0</td>\n",
       "    </tr>\n",
       "    <tr>\n",
       "      <th>3</th>\n",
       "      <td>1</td>\n",
       "      <td>1</td>\n",
       "      <td>0</td>\n",
       "      <td>1</td>\n",
       "      <td>1</td>\n",
       "      <td>1</td>\n",
       "      <td>1</td>\n",
       "      <td>1</td>\n",
       "      <td>0</td>\n",
       "      <td>0</td>\n",
       "      <td>1</td>\n",
       "      <td>0</td>\n",
       "    </tr>\n",
       "    <tr>\n",
       "      <th>4</th>\n",
       "      <td>0</td>\n",
       "      <td>1</td>\n",
       "      <td>0</td>\n",
       "      <td>1</td>\n",
       "      <td>1</td>\n",
       "      <td>1</td>\n",
       "      <td>1</td>\n",
       "      <td>0</td>\n",
       "      <td>0</td>\n",
       "      <td>1</td>\n",
       "      <td>0</td>\n",
       "      <td>1</td>\n",
       "    </tr>\n",
       "    <tr>\n",
       "      <th>...</th>\n",
       "      <td>...</td>\n",
       "      <td>...</td>\n",
       "      <td>...</td>\n",
       "      <td>...</td>\n",
       "      <td>...</td>\n",
       "      <td>...</td>\n",
       "      <td>...</td>\n",
       "      <td>...</td>\n",
       "      <td>...</td>\n",
       "      <td>...</td>\n",
       "      <td>...</td>\n",
       "      <td>...</td>\n",
       "    </tr>\n",
       "    <tr>\n",
       "      <th>1448</th>\n",
       "      <td>0</td>\n",
       "      <td>1</td>\n",
       "      <td>0</td>\n",
       "      <td>1</td>\n",
       "      <td>1</td>\n",
       "      <td>0</td>\n",
       "      <td>0</td>\n",
       "      <td>0</td>\n",
       "      <td>1</td>\n",
       "      <td>0</td>\n",
       "      <td>1</td>\n",
       "      <td>1</td>\n",
       "    </tr>\n",
       "    <tr>\n",
       "      <th>1449</th>\n",
       "      <td>1</td>\n",
       "      <td>1</td>\n",
       "      <td>0</td>\n",
       "      <td>1</td>\n",
       "      <td>0</td>\n",
       "      <td>0</td>\n",
       "      <td>1</td>\n",
       "      <td>1</td>\n",
       "      <td>0</td>\n",
       "      <td>1</td>\n",
       "      <td>0</td>\n",
       "      <td>0</td>\n",
       "    </tr>\n",
       "    <tr>\n",
       "      <th>1450</th>\n",
       "      <td>1</td>\n",
       "      <td>1</td>\n",
       "      <td>0</td>\n",
       "      <td>1</td>\n",
       "      <td>0</td>\n",
       "      <td>1</td>\n",
       "      <td>0</td>\n",
       "      <td>1</td>\n",
       "      <td>1</td>\n",
       "      <td>0</td>\n",
       "      <td>0</td>\n",
       "      <td>0</td>\n",
       "    </tr>\n",
       "    <tr>\n",
       "      <th>1451</th>\n",
       "      <td>1</td>\n",
       "      <td>1</td>\n",
       "      <td>0</td>\n",
       "      <td>0</td>\n",
       "      <td>0</td>\n",
       "      <td>1</td>\n",
       "      <td>1</td>\n",
       "      <td>1</td>\n",
       "      <td>0</td>\n",
       "      <td>1</td>\n",
       "      <td>0</td>\n",
       "      <td>1</td>\n",
       "    </tr>\n",
       "    <tr>\n",
       "      <th>1452</th>\n",
       "      <td>0</td>\n",
       "      <td>1</td>\n",
       "      <td>0</td>\n",
       "      <td>1</td>\n",
       "      <td>1</td>\n",
       "      <td>0</td>\n",
       "      <td>0</td>\n",
       "      <td>0</td>\n",
       "      <td>1</td>\n",
       "      <td>0</td>\n",
       "      <td>1</td>\n",
       "      <td>1</td>\n",
       "    </tr>\n",
       "  </tbody>\n",
       "</table>\n",
       "<p>1431 rows × 12 columns</p>\n",
       "</div>"
      ],
      "text/plain": [
       "      yummy  convenient  spicy  fattening  greasy  fast  cheap  tasty  \\\n",
       "0         0           1      0          1       0     1      1      0   \n",
       "1         1           1      0          1       1     1      1      1   \n",
       "2         0           1      1          1       1     1      0      1   \n",
       "3         1           1      0          1       1     1      1      1   \n",
       "4         0           1      0          1       1     1      1      0   \n",
       "...     ...         ...    ...        ...     ...   ...    ...    ...   \n",
       "1448      0           1      0          1       1     0      0      0   \n",
       "1449      1           1      0          1       0     0      1      1   \n",
       "1450      1           1      0          1       0     1      0      1   \n",
       "1451      1           1      0          0       0     1      1      1   \n",
       "1452      0           1      0          1       1     0      0      0   \n",
       "\n",
       "      expensive  healthy  disgusting  Gender  \n",
       "0             1        0           0       0  \n",
       "1             1        0           0       0  \n",
       "2             1        1           0       0  \n",
       "3             0        0           1       0  \n",
       "4             0        1           0       1  \n",
       "...         ...      ...         ...     ...  \n",
       "1448          1        0           1       1  \n",
       "1449          0        1           0       0  \n",
       "1450          1        0           0       0  \n",
       "1451          0        1           0       1  \n",
       "1452          1        0           1       1  \n",
       "\n",
       "[1431 rows x 12 columns]"
      ]
     },
     "execution_count": 15,
     "metadata": {},
     "output_type": "execute_result"
    }
   ],
   "source": [
    "preprocessed_data"
   ]
  },
  {
   "cell_type": "markdown",
   "metadata": {},
   "source": [
    "### Standardising the Data"
   ]
  },
  {
   "cell_type": "code",
   "execution_count": 16,
   "metadata": {},
   "outputs": [],
   "source": [
    "from sklearn.preprocessing import StandardScaler\n",
    "sc = StandardScaler()\n",
    "scaled_data = sc.fit_transform(preprocessed_data)"
   ]
  },
  {
   "cell_type": "code",
   "execution_count": 17,
   "metadata": {},
   "outputs": [
    {
     "data": {
      "text/plain": [
       "array([[-1.10390428,  0.32010206, -0.32406682, ..., -0.50087336,\n",
       "        -0.56901167, -0.92391934],\n",
       "       [ 0.90587565,  0.32010206, -0.32406682, ..., -0.50087336,\n",
       "        -0.56901167, -0.92391934],\n",
       "       [-1.10390428,  0.32010206,  3.08578334, ...,  1.99651264,\n",
       "        -0.56901167, -0.92391934],\n",
       "       ...,\n",
       "       [ 0.90587565,  0.32010206, -0.32406682, ..., -0.50087336,\n",
       "        -0.56901167, -0.92391934],\n",
       "       [ 0.90587565,  0.32010206, -0.32406682, ...,  1.99651264,\n",
       "        -0.56901167,  1.08234557],\n",
       "       [-1.10390428,  0.32010206, -0.32406682, ..., -0.50087336,\n",
       "         1.75743319,  1.08234557]])"
      ]
     },
     "execution_count": 17,
     "metadata": {},
     "output_type": "execute_result"
    }
   ],
   "source": [
    "scaled_data"
   ]
  },
  {
   "cell_type": "markdown",
   "metadata": {},
   "source": [
    "### Getting Principal Components"
   ]
  },
  {
   "cell_type": "code",
   "execution_count": 18,
   "metadata": {},
   "outputs": [],
   "source": [
    "from sklearn.decomposition import PCA\n",
    "pca = PCA(n_components = 11)\n",
    "pca_data = pca.fit_transform(scaled_data)"
   ]
  },
  {
   "cell_type": "code",
   "execution_count": 19,
   "metadata": {},
   "outputs": [
    {
     "data": {
      "text/html": [
       "<div>\n",
       "<style scoped>\n",
       "    .dataframe tbody tr th:only-of-type {\n",
       "        vertical-align: middle;\n",
       "    }\n",
       "\n",
       "    .dataframe tbody tr th {\n",
       "        vertical-align: top;\n",
       "    }\n",
       "\n",
       "    .dataframe thead th {\n",
       "        text-align: right;\n",
       "    }\n",
       "</style>\n",
       "<table border=\"1\" class=\"dataframe\">\n",
       "  <thead>\n",
       "    <tr style=\"text-align: right;\">\n",
       "      <th></th>\n",
       "      <th>pc1</th>\n",
       "      <th>pc2</th>\n",
       "      <th>pc3</th>\n",
       "      <th>pc4</th>\n",
       "      <th>pc5</th>\n",
       "      <th>pc6</th>\n",
       "      <th>pc7</th>\n",
       "      <th>pc8</th>\n",
       "      <th>pc9</th>\n",
       "      <th>pc10</th>\n",
       "      <th>pc11</th>\n",
       "    </tr>\n",
       "  </thead>\n",
       "  <tbody>\n",
       "    <tr>\n",
       "      <th>0</th>\n",
       "      <td>0.597305</td>\n",
       "      <td>-0.626043</td>\n",
       "      <td>0.229275</td>\n",
       "      <td>-0.978213</td>\n",
       "      <td>-0.377158</td>\n",
       "      <td>-1.674898</td>\n",
       "      <td>0.529718</td>\n",
       "      <td>0.054906</td>\n",
       "      <td>-0.539874</td>\n",
       "      <td>0.326721</td>\n",
       "      <td>0.317024</td>\n",
       "    </tr>\n",
       "    <tr>\n",
       "      <th>1</th>\n",
       "      <td>-0.557935</td>\n",
       "      <td>0.163381</td>\n",
       "      <td>-1.676006</td>\n",
       "      <td>-0.278267</td>\n",
       "      <td>0.784080</td>\n",
       "      <td>-0.001351</td>\n",
       "      <td>-0.411697</td>\n",
       "      <td>0.135360</td>\n",
       "      <td>0.548945</td>\n",
       "      <td>0.165590</td>\n",
       "      <td>0.186555</td>\n",
       "    </tr>\n",
       "    <tr>\n",
       "      <th>2</th>\n",
       "      <td>0.114013</td>\n",
       "      <td>1.527376</td>\n",
       "      <td>-0.504251</td>\n",
       "      <td>2.832013</td>\n",
       "      <td>1.363222</td>\n",
       "      <td>-2.164258</td>\n",
       "      <td>0.267002</td>\n",
       "      <td>-0.479310</td>\n",
       "      <td>-0.393036</td>\n",
       "      <td>1.307277</td>\n",
       "      <td>-1.280092</td>\n",
       "    </tr>\n",
       "    <tr>\n",
       "      <th>3</th>\n",
       "      <td>-0.233905</td>\n",
       "      <td>-1.320942</td>\n",
       "      <td>-1.043183</td>\n",
       "      <td>0.202936</td>\n",
       "      <td>1.149474</td>\n",
       "      <td>0.618754</td>\n",
       "      <td>-0.844972</td>\n",
       "      <td>0.034603</td>\n",
       "      <td>0.415808</td>\n",
       "      <td>-1.618152</td>\n",
       "      <td>0.080091</td>\n",
       "    </tr>\n",
       "    <tr>\n",
       "      <th>4</th>\n",
       "      <td>0.037448</td>\n",
       "      <td>-1.159515</td>\n",
       "      <td>0.890259</td>\n",
       "      <td>0.794228</td>\n",
       "      <td>-0.717895</td>\n",
       "      <td>0.152232</td>\n",
       "      <td>-0.879306</td>\n",
       "      <td>-1.851812</td>\n",
       "      <td>-0.774975</td>\n",
       "      <td>1.725725</td>\n",
       "      <td>0.117794</td>\n",
       "    </tr>\n",
       "  </tbody>\n",
       "</table>\n",
       "</div>"
      ],
      "text/plain": [
       "        pc1       pc2       pc3       pc4       pc5       pc6       pc7  \\\n",
       "0  0.597305 -0.626043  0.229275 -0.978213 -0.377158 -1.674898  0.529718   \n",
       "1 -0.557935  0.163381 -1.676006 -0.278267  0.784080 -0.001351 -0.411697   \n",
       "2  0.114013  1.527376 -0.504251  2.832013  1.363222 -2.164258  0.267002   \n",
       "3 -0.233905 -1.320942 -1.043183  0.202936  1.149474  0.618754 -0.844972   \n",
       "4  0.037448 -1.159515  0.890259  0.794228 -0.717895  0.152232 -0.879306   \n",
       "\n",
       "        pc8       pc9      pc10      pc11  \n",
       "0  0.054906 -0.539874  0.326721  0.317024  \n",
       "1  0.135360  0.548945  0.165590  0.186555  \n",
       "2 -0.479310 -0.393036  1.307277 -1.280092  \n",
       "3  0.034603  0.415808 -1.618152  0.080091  \n",
       "4 -1.851812 -0.774975  1.725725  0.117794  "
      ]
     },
     "execution_count": 19,
     "metadata": {},
     "output_type": "execute_result"
    }
   ],
   "source": [
    "names = ['pc1','pc2','pc3','pc4','pc5','pc6','pc7','pc8','pc9','pc10','pc11']\n",
    "pf = pd.DataFrame(data = pca_data, columns = names)\n",
    "pf.head()"
   ]
  },
  {
   "cell_type": "code",
   "execution_count": 20,
   "metadata": {},
   "outputs": [
    {
     "data": {
      "text/plain": [
       "array([0.23559444, 0.13722417, 0.11484801, 0.09110348, 0.08237831,\n",
       "       0.07385892, 0.06518842, 0.05949873, 0.04904068, 0.04375673,\n",
       "       0.02593174])"
      ]
     },
     "execution_count": 20,
     "metadata": {},
     "output_type": "execute_result"
    }
   ],
   "source": [
    "# variance (from PC1 to PC11)\n",
    "pca.explained_variance_ratio_"
   ]
  },
  {
   "cell_type": "code",
   "execution_count": 21,
   "metadata": {},
   "outputs": [
    {
     "data": {
      "text/html": [
       "<div>\n",
       "<style scoped>\n",
       "    .dataframe tbody tr th:only-of-type {\n",
       "        vertical-align: middle;\n",
       "    }\n",
       "\n",
       "    .dataframe tbody tr th {\n",
       "        vertical-align: top;\n",
       "    }\n",
       "\n",
       "    .dataframe thead th {\n",
       "        text-align: right;\n",
       "    }\n",
       "</style>\n",
       "<table border=\"1\" class=\"dataframe\">\n",
       "  <thead>\n",
       "    <tr style=\"text-align: right;\">\n",
       "      <th></th>\n",
       "      <th>PC1</th>\n",
       "      <th>PC2</th>\n",
       "      <th>PC3</th>\n",
       "      <th>PC4</th>\n",
       "      <th>PC5</th>\n",
       "      <th>PC6</th>\n",
       "      <th>PC7</th>\n",
       "      <th>PC8</th>\n",
       "      <th>PC9</th>\n",
       "      <th>PC10</th>\n",
       "      <th>PC11</th>\n",
       "    </tr>\n",
       "    <tr>\n",
       "      <th>feature</th>\n",
       "      <th></th>\n",
       "      <th></th>\n",
       "      <th></th>\n",
       "      <th></th>\n",
       "      <th></th>\n",
       "      <th></th>\n",
       "      <th></th>\n",
       "      <th></th>\n",
       "      <th></th>\n",
       "      <th></th>\n",
       "      <th></th>\n",
       "    </tr>\n",
       "  </thead>\n",
       "  <tbody>\n",
       "    <tr>\n",
       "      <th>yummy</th>\n",
       "      <td>-0.401615</td>\n",
       "      <td>0.283198</td>\n",
       "      <td>-0.269772</td>\n",
       "      <td>-0.005849</td>\n",
       "      <td>0.190605</td>\n",
       "      <td>0.290036</td>\n",
       "      <td>-0.130093</td>\n",
       "      <td>0.154596</td>\n",
       "      <td>0.006743</td>\n",
       "      <td>-0.194489</td>\n",
       "      <td>0.691030</td>\n",
       "    </tr>\n",
       "    <tr>\n",
       "      <th>convenient</th>\n",
       "      <td>-0.306468</td>\n",
       "      <td>-0.038672</td>\n",
       "      <td>-0.309770</td>\n",
       "      <td>0.046395</td>\n",
       "      <td>-0.303269</td>\n",
       "      <td>-0.327025</td>\n",
       "      <td>0.196117</td>\n",
       "      <td>-0.658775</td>\n",
       "      <td>0.133253</td>\n",
       "      <td>-0.340613</td>\n",
       "      <td>0.028397</td>\n",
       "    </tr>\n",
       "    <tr>\n",
       "      <th>spicy</th>\n",
       "      <td>-0.021977</td>\n",
       "      <td>0.082643</td>\n",
       "      <td>0.017572</td>\n",
       "      <td>0.815576</td>\n",
       "      <td>0.144953</td>\n",
       "      <td>-0.226387</td>\n",
       "      <td>0.447502</td>\n",
       "      <td>0.222133</td>\n",
       "      <td>-0.011941</td>\n",
       "      <td>0.019163</td>\n",
       "      <td>0.056671</td>\n",
       "    </tr>\n",
       "    <tr>\n",
       "      <th>fattening</th>\n",
       "      <td>0.170896</td>\n",
       "      <td>-0.231905</td>\n",
       "      <td>-0.603665</td>\n",
       "      <td>-0.031145</td>\n",
       "      <td>0.058466</td>\n",
       "      <td>0.040310</td>\n",
       "      <td>0.110584</td>\n",
       "      <td>-0.014355</td>\n",
       "      <td>-0.714226</td>\n",
       "      <td>0.131742</td>\n",
       "      <td>-0.017511</td>\n",
       "    </tr>\n",
       "    <tr>\n",
       "      <th>greasy</th>\n",
       "      <td>0.264314</td>\n",
       "      <td>-0.146297</td>\n",
       "      <td>-0.392746</td>\n",
       "      <td>0.297388</td>\n",
       "      <td>0.248923</td>\n",
       "      <td>0.267923</td>\n",
       "      <td>-0.277962</td>\n",
       "      <td>-0.313579</td>\n",
       "      <td>0.493963</td>\n",
       "      <td>0.333887</td>\n",
       "      <td>-0.015677</td>\n",
       "    </tr>\n",
       "    <tr>\n",
       "      <th>fast</th>\n",
       "      <td>-0.213937</td>\n",
       "      <td>-0.268332</td>\n",
       "      <td>-0.194064</td>\n",
       "      <td>0.164834</td>\n",
       "      <td>-0.357513</td>\n",
       "      <td>-0.441000</td>\n",
       "      <td>-0.567122</td>\n",
       "      <td>0.395966</td>\n",
       "      <td>0.066021</td>\n",
       "      <td>0.094910</td>\n",
       "      <td>0.018174</td>\n",
       "    </tr>\n",
       "    <tr>\n",
       "      <th>cheap</th>\n",
       "      <td>-0.295925</td>\n",
       "      <td>-0.551050</td>\n",
       "      <td>0.147001</td>\n",
       "      <td>0.139268</td>\n",
       "      <td>0.070094</td>\n",
       "      <td>0.274446</td>\n",
       "      <td>0.007752</td>\n",
       "      <td>-0.021230</td>\n",
       "      <td>-0.086746</td>\n",
       "      <td>-0.048354</td>\n",
       "      <td>0.065862</td>\n",
       "    </tr>\n",
       "    <tr>\n",
       "      <th>tasty</th>\n",
       "      <td>-0.420619</td>\n",
       "      <td>0.246039</td>\n",
       "      <td>-0.276329</td>\n",
       "      <td>0.055635</td>\n",
       "      <td>0.134024</td>\n",
       "      <td>0.265567</td>\n",
       "      <td>-0.059068</td>\n",
       "      <td>0.190694</td>\n",
       "      <td>0.041180</td>\n",
       "      <td>-0.210432</td>\n",
       "      <td>-0.713219</td>\n",
       "    </tr>\n",
       "    <tr>\n",
       "      <th>expensive</th>\n",
       "      <td>0.298897</td>\n",
       "      <td>0.547036</td>\n",
       "      <td>-0.204833</td>\n",
       "      <td>0.010577</td>\n",
       "      <td>-0.021646</td>\n",
       "      <td>-0.232606</td>\n",
       "      <td>-0.161883</td>\n",
       "      <td>0.023145</td>\n",
       "      <td>-0.054320</td>\n",
       "      <td>-0.010458</td>\n",
       "      <td>0.030823</td>\n",
       "    </tr>\n",
       "    <tr>\n",
       "      <th>healthy</th>\n",
       "      <td>-0.265557</td>\n",
       "      <td>0.211677</td>\n",
       "      <td>0.348026</td>\n",
       "      <td>0.240764</td>\n",
       "      <td>0.244560</td>\n",
       "      <td>-0.099662</td>\n",
       "      <td>-0.437610</td>\n",
       "      <td>-0.442327</td>\n",
       "      <td>-0.426225</td>\n",
       "      <td>0.235025</td>\n",
       "      <td>-0.054809</td>\n",
       "    </tr>\n",
       "    <tr>\n",
       "      <th>disgusting</th>\n",
       "      <td>0.406848</td>\n",
       "      <td>-0.148325</td>\n",
       "      <td>0.088650</td>\n",
       "      <td>0.216308</td>\n",
       "      <td>0.137684</td>\n",
       "      <td>0.058322</td>\n",
       "      <td>-0.331154</td>\n",
       "      <td>-0.022591</td>\n",
       "      <td>-0.105853</td>\n",
       "      <td>-0.776086</td>\n",
       "      <td>-0.018171</td>\n",
       "    </tr>\n",
       "    <tr>\n",
       "      <th>Gender</th>\n",
       "      <td>0.097907</td>\n",
       "      <td>0.184502</td>\n",
       "      <td>0.075701</td>\n",
       "      <td>0.297842</td>\n",
       "      <td>-0.745238</td>\n",
       "      <td>0.525841</td>\n",
       "      <td>-0.048124</td>\n",
       "      <td>-0.062698</td>\n",
       "      <td>-0.136142</td>\n",
       "      <td>0.060577</td>\n",
       "      <td>0.016569</td>\n",
       "    </tr>\n",
       "  </tbody>\n",
       "</table>\n",
       "</div>"
      ],
      "text/plain": [
       "                 PC1       PC2       PC3       PC4       PC5       PC6  \\\n",
       "feature                                                                  \n",
       "yummy      -0.401615  0.283198 -0.269772 -0.005849  0.190605  0.290036   \n",
       "convenient -0.306468 -0.038672 -0.309770  0.046395 -0.303269 -0.327025   \n",
       "spicy      -0.021977  0.082643  0.017572  0.815576  0.144953 -0.226387   \n",
       "fattening   0.170896 -0.231905 -0.603665 -0.031145  0.058466  0.040310   \n",
       "greasy      0.264314 -0.146297 -0.392746  0.297388  0.248923  0.267923   \n",
       "fast       -0.213937 -0.268332 -0.194064  0.164834 -0.357513 -0.441000   \n",
       "cheap      -0.295925 -0.551050  0.147001  0.139268  0.070094  0.274446   \n",
       "tasty      -0.420619  0.246039 -0.276329  0.055635  0.134024  0.265567   \n",
       "expensive   0.298897  0.547036 -0.204833  0.010577 -0.021646 -0.232606   \n",
       "healthy    -0.265557  0.211677  0.348026  0.240764  0.244560 -0.099662   \n",
       "disgusting  0.406848 -0.148325  0.088650  0.216308  0.137684  0.058322   \n",
       "Gender      0.097907  0.184502  0.075701  0.297842 -0.745238  0.525841   \n",
       "\n",
       "                 PC7       PC8       PC9      PC10      PC11  \n",
       "feature                                                       \n",
       "yummy      -0.130093  0.154596  0.006743 -0.194489  0.691030  \n",
       "convenient  0.196117 -0.658775  0.133253 -0.340613  0.028397  \n",
       "spicy       0.447502  0.222133 -0.011941  0.019163  0.056671  \n",
       "fattening   0.110584 -0.014355 -0.714226  0.131742 -0.017511  \n",
       "greasy     -0.277962 -0.313579  0.493963  0.333887 -0.015677  \n",
       "fast       -0.567122  0.395966  0.066021  0.094910  0.018174  \n",
       "cheap       0.007752 -0.021230 -0.086746 -0.048354  0.065862  \n",
       "tasty      -0.059068  0.190694  0.041180 -0.210432 -0.713219  \n",
       "expensive  -0.161883  0.023145 -0.054320 -0.010458  0.030823  \n",
       "healthy    -0.437610 -0.442327 -0.426225  0.235025 -0.054809  \n",
       "disgusting -0.331154 -0.022591 -0.105853 -0.776086 -0.018171  \n",
       "Gender     -0.048124 -0.062698 -0.136142  0.060577  0.016569  "
      ]
     },
     "execution_count": 21,
     "metadata": {},
     "output_type": "execute_result"
    }
   ],
   "source": [
    "# correlation coefficient between original variables and the component\n",
    "loadings = pca.components_\n",
    "num_pc = pca.n_features_\n",
    "pc_list = [\"PC\"+str(i) for i in list(range(1, num_pc+1))]\n",
    "loadings_df = pd.DataFrame.from_dict(dict(zip(pc_list, loadings)))\n",
    "loadings_df['feature'] = preprocessed_data.columns.values\n",
    "loadings_df = loadings_df.set_index('feature')\n",
    "loadings_df"
   ]
  },
  {
   "cell_type": "code",
   "execution_count": 22,
   "metadata": {},
   "outputs": [
    {
     "data": {
      "image/png": "[encoded data removed]",
      "text/plain": [
       "<Figure size 1440x1080 with 2 Axes>"
      ]
     },
     "metadata": {
      "needs_background": "light"
     },
     "output_type": "display_data"
    }
   ],
   "source": [
    "# correlation matrix plot for loadings \n",
    "plt.rcParams['figure.figsize'] = (20,15)\n",
    "ax = sns.heatmap(loadings_df, annot=True, cmap='Purples')\n",
    "plt.show()"
   ]
  },
  {
   "cell_type": "code",
   "execution_count": 23,
   "metadata": {},
   "outputs": [
    {
     "name": "stdout",
     "output_type": "stream",
     "text": [
      "Requirement already satisfied: bioinfokit in c:\\users\\lenovo\\anaconda3\\lib\\site-packages (2.1.0)"
     ]
    },
    {
     "name": "stderr",
     "output_type": "stream",
     "text": [
      "ERROR: Could not install packages due to an OSError: [WinError 5] Access is denied: 'C:\\\\Users\\\\lenovo\\\\AppData\\\\Roaming\\\\Python\\\\Python39\\\\site-packages\\\\~umpy\\\\.libs\\\\libopenblas64__v0.3.21-gcc_10_3_0.dll'\n",
      "Consider using the `--user` option or check the permissions.\n",
      "\n"
     ]
    },
    {
     "name": "stdout",
     "output_type": "stream",
     "text": [
      "\n",
      "Requirement already satisfied: scipy in c:\\users\\lenovo\\anaconda3\\lib\\site-packages (from bioinfokit) (1.7.1)\n",
      "Requirement already satisfied: textwrap3 in c:\\users\\lenovo\\anaconda3\\lib\\site-packages (from bioinfokit) (0.9.2)\n",
      "Requirement already satisfied: matplotlib in c:\\users\\lenovo\\anaconda3\\lib\\site-packages (from bioinfokit) (3.4.3)\n",
      "Requirement already satisfied: seaborn in c:\\users\\lenovo\\anaconda3\\lib\\site-packages (from bioinfokit) (0.11.2)\n",
      "Requirement already satisfied: tabulate in c:\\users\\lenovo\\anaconda3\\lib\\site-packages (from bioinfokit) (0.9.0)\n",
      "Requirement already satisfied: matplotlib-venn in c:\\users\\lenovo\\anaconda3\\lib\\site-packages (from bioinfokit) (0.11.9)\n",
      "Requirement already satisfied: adjustText in c:\\users\\lenovo\\anaconda3\\lib\\site-packages (from bioinfokit) (0.8)\n",
      "Requirement already satisfied: pandas in c:\\users\\lenovo\\anaconda3\\lib\\site-packages (from bioinfokit) (1.3.4)\n",
      "Requirement already satisfied: numpy in c:\\users\\lenovo\\appdata\\roaming\\python\\python39\\site-packages (from bioinfokit) (1.24.3)\n",
      "Requirement already satisfied: statsmodels in c:\\users\\lenovo\\anaconda3\\lib\\site-packages (from bioinfokit) (0.13.5)\n",
      "Requirement already satisfied: scikit-learn in c:\\users\\lenovo\\anaconda3\\lib\\site-packages (from bioinfokit) (1.2.2)\n",
      "Requirement already satisfied: pyparsing>=2.2.1 in c:\\users\\lenovo\\anaconda3\\lib\\site-packages (from matplotlib->bioinfokit) (3.0.4)\n",
      "Requirement already satisfied: kiwisolver>=1.0.1 in c:\\users\\lenovo\\anaconda3\\lib\\site-packages (from matplotlib->bioinfokit) (1.3.1)\n",
      "Requirement already satisfied: pillow>=6.2.0 in c:\\users\\lenovo\\anaconda3\\lib\\site-packages (from matplotlib->bioinfokit) (8.4.0)\n",
      "Requirement already satisfied: python-dateutil>=2.7 in c:\\users\\lenovo\\anaconda3\\lib\\site-packages (from matplotlib->bioinfokit) (2.8.2)\n",
      "Requirement already satisfied: cycler>=0.10 in c:\\users\\lenovo\\anaconda3\\lib\\site-packages (from matplotlib->bioinfokit) (0.10.0)\n",
      "Requirement already satisfied: six in c:\\users\\lenovo\\anaconda3\\lib\\site-packages (from cycler>=0.10->matplotlib->bioinfokit) (1.15.0)\n",
      "Requirement already satisfied: pytz>=2017.3 in c:\\users\\lenovo\\anaconda3\\lib\\site-packages (from pandas->bioinfokit) (2021.3)\n",
      "Requirement already satisfied: threadpoolctl>=2.0.0 in c:\\users\\lenovo\\anaconda3\\lib\\site-packages (from scikit-learn->bioinfokit) (3.1.0)\n",
      "Requirement already satisfied: joblib>=1.1.1 in c:\\users\\lenovo\\anaconda3\\lib\\site-packages (from scikit-learn->bioinfokit) (1.2.0)\n",
      "Collecting numpy\n",
      "  Using cached numpy-1.22.4-cp39-cp39-win_amd64.whl (14.7 MB)\n",
      "Requirement already satisfied: packaging>=21.3 in c:\\users\\lenovo\\anaconda3\\lib\\site-packages (from statsmodels->bioinfokit) (23.0)\n",
      "Requirement already satisfied: patsy>=0.5.2 in c:\\users\\lenovo\\anaconda3\\lib\\site-packages (from statsmodels->bioinfokit) (0.5.2)\n",
      "Installing collected packages: numpy\n",
      "  Attempting uninstall: numpy\n",
      "    Found existing installation: numpy 1.24.3\n",
      "    Uninstalling numpy-1.24.3:\n",
      "      Successfully uninstalled numpy-1.24.3\n",
      "Requirement already satisfied: yellowbrick in c:\\users\\lenovo\\anaconda3\\lib\\site-packages (1.5)\n",
      "Requirement already satisfied: cycler>=0.10.0 in c:\\users\\lenovo\\anaconda3\\lib\\site-packages (from yellowbrick) (0.10.0)\n",
      "Requirement already satisfied: scipy>=1.0.0 in c:\\users\\lenovo\\anaconda3\\lib\\site-packages (from yellowbrick) (1.7.1)\n",
      "Requirement already satisfied: matplotlib!=3.0.0,>=2.0.2 in c:\\users\\lenovo\\anaconda3\\lib\\site-packages (from yellowbrick) (3.4.3)\n",
      "Requirement already satisfied: scikit-learn>=1.0.0 in c:\\users\\lenovo\\anaconda3\\lib\\site-packages (from yellowbrick) (1.2.2)\n",
      "Requirement already satisfied: numpy>=1.16.0 in c:\\users\\lenovo\\anaconda3\\lib\\site-packages (from yellowbrick) (1.22.4)\n",
      "Requirement already satisfied: six in c:\\users\\lenovo\\anaconda3\\lib\\site-packages (from cycler>=0.10.0->yellowbrick) (1.15.0)\n",
      "Requirement already satisfied: python-dateutil>=2.7 in c:\\users\\lenovo\\anaconda3\\lib\\site-packages (from matplotlib!=3.0.0,>=2.0.2->yellowbrick) (2.8.2)\n",
      "Requirement already satisfied: kiwisolver>=1.0.1 in c:\\users\\lenovo\\anaconda3\\lib\\site-packages (from matplotlib!=3.0.0,>=2.0.2->yellowbrick) (1.3.1)\n",
      "Requirement already satisfied: pillow>=6.2.0 in c:\\users\\lenovo\\anaconda3\\lib\\site-packages (from matplotlib!=3.0.0,>=2.0.2->yellowbrick) (8.4.0)\n",
      "Requirement already satisfied: pyparsing>=2.2.1 in c:\\users\\lenovo\\anaconda3\\lib\\site-packages (from matplotlib!=3.0.0,>=2.0.2->yellowbrick) (3.0.4)\n",
      "Requirement already satisfied: joblib>=1.1.1 in c:\\users\\lenovo\\anaconda3\\lib\\site-packages (from scikit-learn>=1.0.0->yellowbrick) (1.2.0)\n",
      "Requirement already satisfied: threadpoolctl>=2.0.0 in c:\\users\\lenovo\\anaconda3\\lib\\site-packages (from scikit-learn>=1.0.0->yellowbrick) (3.1.0)\n"
     ]
    }
   ],
   "source": [
    "!pip install -U bioinfokit\n",
    "!pip install -U yellowbrick"
   ]
  },
  {
   "cell_type": "code",
   "execution_count": 34,
   "metadata": {},
   "outputs": [
    {
     "name": "stdout",
     "output_type": "stream",
     "text": [
      "Collecting yellowbrick\n",
      "  Using cached yellowbrick-1.5-py3-none-any.whl (282 kB)\n",
      "Requirement already satisfied: numpy>=1.16.0 in c:\\users\\lenovo\\anaconda3\\lib\\site-packages (from yellowbrick) (1.20.3)\n",
      "Requirement already satisfied: scikit-learn>=1.0.0 in c:\\users\\lenovo\\anaconda3\\lib\\site-packages (from yellowbrick) (1.2.2)\n",
      "Requirement already satisfied: matplotlib!=3.0.0,>=2.0.2 in c:\\users\\lenovo\\anaconda3\\lib\\site-packages (from yellowbrick) (3.4.3)\n",
      "Requirement already satisfied: cycler>=0.10.0 in c:\\users\\lenovo\\anaconda3\\lib\\site-packages (from yellowbrick) (0.10.0)\n",
      "Requirement already satisfied: scipy>=1.0.0 in c:\\users\\lenovo\\anaconda3\\lib\\site-packages (from yellowbrick) (1.7.1)\n",
      "Requirement already satisfied: six in c:\\users\\lenovo\\anaconda3\\lib\\site-packages (from cycler>=0.10.0->yellowbrick) (1.15.0)\n",
      "Requirement already satisfied: python-dateutil>=2.7 in c:\\users\\lenovo\\anaconda3\\lib\\site-packages (from matplotlib!=3.0.0,>=2.0.2->yellowbrick) (2.8.2)\n",
      "Requirement already satisfied: kiwisolver>=1.0.1 in c:\\users\\lenovo\\anaconda3\\lib\\site-packages (from matplotlib!=3.0.0,>=2.0.2->yellowbrick) (1.3.1)\n",
      "Requirement already satisfied: pillow>=6.2.0 in c:\\users\\lenovo\\anaconda3\\lib\\site-packages (from matplotlib!=3.0.0,>=2.0.2->yellowbrick) (8.4.0)\n",
      "Requirement already satisfied: pyparsing>=2.2.1 in c:\\users\\lenovo\\anaconda3\\lib\\site-packages (from matplotlib!=3.0.0,>=2.0.2->yellowbrick) (3.0.4)\n",
      "Requirement already satisfied: joblib>=1.1.1 in c:\\users\\lenovo\\anaconda3\\lib\\site-packages (from scikit-learn>=1.0.0->yellowbrick) (1.2.0)\n",
      "Requirement already satisfied: threadpoolctl>=2.0.0 in c:\\users\\lenovo\\anaconda3\\lib\\site-packages (from scikit-learn>=1.0.0->yellowbrick) (2.2.0)\n",
      "Installing collected packages: yellowbrick\n",
      "Successfully installed yellowbrick-1.5\n"
     ]
    }
   ],
   "source": [
    "!pip install yellowbrick"
   ]
  },
  {
   "cell_type": "code",
   "execution_count": 23,
   "metadata": {},
   "outputs": [
    {
     "data": {
      "image/png": "[encoded data removed]",
      "text/plain": [
       "<Figure size 720x360 with 1 Axes>"
      ]
     },
     "metadata": {
      "needs_background": "light"
     },
     "output_type": "display_data"
    }
   ],
   "source": [
    "from bioinfokit.visuz import cluster\n",
    "# get PC scores\n",
    "pca_scores = PCA().fit_transform(preprocessed_data)\n",
    "\n",
    "# get 2D biplot\n",
    "cluster.biplot(cscore=pca_scores, loadings=loadings, labels=data.columns.values, \n",
    "               var1=round(pca.explained_variance_ratio_[0]*100, 2),\n",
    "    var2=round(pca.explained_variance_ratio_[1]*100, 2),show=True,dim=(10,5))"
   ]
  },
  {
   "cell_type": "markdown",
   "metadata": {},
   "source": [
    "### Finding The Suitable Clusters"
   ]
  },
  {
   "cell_type": "code",
   "execution_count": 24,
   "metadata": {},
   "outputs": [
    {
     "data": {
      "image/png": "[encoded data removed]",
      "text/plain": [
       "<Figure size 576x396 with 2 Axes>"
      ]
     },
     "metadata": {},
     "output_type": "display_data"
    },
    {
     "data": {
      "text/plain": [
       "<AxesSubplot:title={'center':'Distortion Score Elbow for KMeans Clustering'}, xlabel='k', ylabel='distortion score'>"
      ]
     },
     "execution_count": 24,
     "metadata": {},
     "output_type": "execute_result"
    }
   ],
   "source": [
    "from sklearn.cluster import KMeans\n",
    "from bioinfokit.visuz import cluster\n",
    "from yellowbrick.cluster import KElbowVisualizer\n",
    "# using k-means clustering analysis for extracting segments\n",
    "model = KMeans()\n",
    "visualizer = KElbowVisualizer(model, k=(1,12)).fit(preprocessed_data)\n",
    "visualizer.show()"
   ]
  },
  {
   "cell_type": "code",
   "execution_count": 40,
   "metadata": {},
   "outputs": [
    {
     "name": "stdout",
     "output_type": "stream",
     "text": [
      "Requirement already satisfied: scikit-learn in c:\\users\\lenovo\\anaconda3\\lib\\site-packages (1.2.2)Note: you may need to restart the kernel to use updated packages.\n",
      "Requirement already satisfied: scipy>=1.3.2 in c:\\users\\lenovo\\anaconda3\\lib\\site-packages (from scikit-learn) (1.7.1)\n",
      "Requirement already satisfied: threadpoolctl>=2.0.0 in c:\\users\\lenovo\\anaconda3\\lib\\site-packages (from scikit-learn) (2.2.0)\n",
      "Requirement already satisfied: numpy>=1.17.3 in c:\\users\\lenovo\\anaconda3\\lib\\site-packages (from scikit-learn) (1.20.3)\n",
      "Requirement already satisfied: joblib>=1.1.1 in c:\\users\\lenovo\\anaconda3\\lib\\site-packages (from scikit-learn) (1.2.0)\n",
      "\n"
     ]
    }
   ],
   "source": [
    "pip install --upgrade scikit-learn"
   ]
  },
  {
   "cell_type": "code",
   "execution_count": 42,
   "metadata": {},
   "outputs": [
    {
     "name": "stdout",
     "output_type": "stream",
     "text": [
      "^C\n",
      "Note: you may need to restart the kernel to use updated packages.\n"
     ]
    }
   ],
   "source": [
    "pip uninstall scikit-learn"
   ]
  },
  {
   "cell_type": "code",
   "execution_count": 43,
   "metadata": {},
   "outputs": [
    {
     "name": "stdout",
     "output_type": "stream",
     "text": [
      "Requirement already satisfied: scikit-learn in c:\\users\\lenovo\\anaconda3\\lib\\site-packages (1.2.2)Note: you may need to restart the kernel to use updated packages.\n",
      "\n",
      "Requirement already satisfied: threadpoolctl>=2.0.0 in c:\\users\\lenovo\\anaconda3\\lib\\site-packages (from scikit-learn) (2.2.0)\n",
      "Requirement already satisfied: numpy>=1.17.3 in c:\\users\\lenovo\\anaconda3\\lib\\site-packages (from scikit-learn) (1.20.3)\n",
      "Requirement already satisfied: joblib>=1.1.1 in c:\\users\\lenovo\\anaconda3\\lib\\site-packages (from scikit-learn) (1.2.0)\n",
      "Requirement already satisfied: scipy>=1.3.2 in c:\\users\\lenovo\\anaconda3\\lib\\site-packages (from scikit-learn) (1.7.1)\n"
     ]
    }
   ],
   "source": [
    "pip install scikit-learn"
   ]
  },
  {
   "cell_type": "code",
   "execution_count": 44,
   "metadata": {},
   "outputs": [
    {
     "name": "stdout",
     "output_type": "stream",
     "text": [
      "Collecting scikit-learn\n",
      "  Using cached scikit_learn-1.2.2-cp39-cp39-win_amd64.whl (8.4 MB)\n",
      "Collecting threadpoolctl>=2.0.0\n",
      "  Using cached threadpoolctl-3.1.0-py3-none-any.whl (14 kB)\n",
      "Collecting scipy>=1.3.2\n",
      "  Downloading scipy-1.10.1-cp39-cp39-win_amd64.whl (42.5 MB)\n",
      "Collecting numpy>=1.17.3\n",
      "  Downloading numpy-1.24.3-cp39-cp39-win_amd64.whl (14.9 MB)\n",
      "Collecting joblib>=1.1.1\n",
      "  Using cached joblib-1.2.0-py3-none-any.whl (297 kB)\n",
      "Installing collected packages: numpy, threadpoolctl, scipy, joblib, scikit-learn\n",
      "  Attempting uninstall: numpy\n",
      "    Found existing installation: numpy 1.20.3\n",
      "    Uninstalling numpy-1.20.3:\n",
      "      Successfully uninstalled numpy-1.20.3\n",
      "Note: you may need to restart the kernel to use updated packages.\n"
     ]
    },
    {
     "name": "stderr",
     "output_type": "stream",
     "text": [
      "ERROR: Could not install packages due to an OSError: [WinError 5] Access is denied: 'C:\\\\Users\\\\lenovo\\\\anaconda3\\\\Lib\\\\site-packages\\\\~umpy\\\\core\\\\_multiarray_tests.cp39-win_amd64.pyd'\n",
      "Consider using the `--user` option or check the permissions.\n",
      "\n"
     ]
    }
   ],
   "source": [
    "pip install --upgrade --force-reinstall scikit-learn"
   ]
  },
  {
   "cell_type": "code",
   "execution_count": 25,
   "metadata": {},
   "outputs": [],
   "source": [
    "from sklearn.cluster import KMeans"
   ]
  },
  {
   "cell_type": "code",
   "execution_count": 29,
   "metadata": {},
   "outputs": [
    {
     "name": "stdout",
     "output_type": "stream",
     "text": [
      "Requirement already satisfied: threadpoolctl in c:\\users\\lenovo\\anaconda3\\lib\\site-packages (2.2.0)\n",
      "Collecting threadpoolctl\n",
      "  Using cached threadpoolctl-3.1.0-py3-none-any.whl (14 kB)\n",
      "Installing collected packages: threadpoolctl\n",
      "  Attempting uninstall: threadpoolctl\n",
      "    Found existing installation: threadpoolctl 2.2.0\n",
      "    Uninstalling threadpoolctl-2.2.0:\n",
      "      Successfully uninstalled threadpoolctl-2.2.0\n",
      "Successfully installed threadpoolctl-3.1.0\n",
      "Note: you may need to restart the kernel to use updated packages.\n"
     ]
    }
   ],
   "source": [
    "pip install --upgrade threadpoolctl"
   ]
  },
  {
   "cell_type": "code",
   "execution_count": 31,
   "metadata": {},
   "outputs": [
    {
     "name": "stdout",
     "output_type": "stream",
     "text": [
      "Requirement already satisfied: scikit-learn in c:\\users\\lenovo\\anaconda3\\lib\\site-packages (1.2.2)Note: you may need to restart the kernel to use updated packages.\n",
      "Requirement already satisfied: bioinfokit in c:\\users\\lenovo\\anaconda3\\lib\\site-packages (2.1.0)\n",
      "Requirement already satisfied: yellowbrick in c:\\users\\lenovo\\anaconda3\\lib\\site-packages (1.5)\n",
      "Requirement already satisfied: joblib>=1.1.1 in c:\\users\\lenovo\\anaconda3\\lib\\site-packages (from scikit-learn) (1.2.0)\n",
      "Requirement already satisfied: threadpoolctl>=2.0.0 in c:\\users\\lenovo\\anaconda3\\lib\\site-packages (from scikit-learn) (3.1.0)\n",
      "\n"
     ]
    },
    {
     "name": "stderr",
     "output_type": "stream",
     "text": [
      "ERROR: Could not install packages due to an OSError: [WinError 5] Access is denied: 'C:\\\\Users\\\\lenovo\\\\anaconda3\\\\Lib\\\\site-packages\\\\~-mpy\\\\.libs\\\\libopenblas64__v0.3.21-gcc_10_3_0.dll'\n",
      "Consider using the `--user` option or check the permissions.\n",
      "\n"
     ]
    },
    {
     "name": "stdout",
     "output_type": "stream",
     "text": [
      "Requirement already satisfied: scipy>=1.3.2 in c:\\users\\lenovo\\anaconda3\\lib\\site-packages (from scikit-learn) (1.7.1)\n",
      "Requirement already satisfied: numpy>=1.17.3 in c:\\users\\lenovo\\anaconda3\\lib\\site-packages (from scikit-learn) (1.24.3)\n",
      "Requirement already satisfied: textwrap3 in c:\\users\\lenovo\\anaconda3\\lib\\site-packages (from bioinfokit) (0.9.2)\n",
      "Requirement already satisfied: statsmodels in c:\\users\\lenovo\\anaconda3\\lib\\site-packages (from bioinfokit) (0.13.5)\n",
      "Requirement already satisfied: matplotlib in c:\\users\\lenovo\\anaconda3\\lib\\site-packages (from bioinfokit) (3.4.3)\n",
      "Requirement already satisfied: pandas in c:\\users\\lenovo\\anaconda3\\lib\\site-packages (from bioinfokit) (1.3.4)\n",
      "Requirement already satisfied: matplotlib-venn in c:\\users\\lenovo\\anaconda3\\lib\\site-packages (from bioinfokit) (0.11.9)\n",
      "Requirement already satisfied: seaborn in c:\\users\\lenovo\\anaconda3\\lib\\site-packages (from bioinfokit) (0.11.2)\n",
      "Requirement already satisfied: tabulate in c:\\users\\lenovo\\anaconda3\\lib\\site-packages (from bioinfokit) (0.9.0)\n",
      "Requirement already satisfied: adjustText in c:\\users\\lenovo\\anaconda3\\lib\\site-packages (from bioinfokit) (0.8)\n",
      "Requirement already satisfied: cycler>=0.10.0 in c:\\users\\lenovo\\anaconda3\\lib\\site-packages (from yellowbrick) (0.10.0)\n",
      "Requirement already satisfied: six in c:\\users\\lenovo\\anaconda3\\lib\\site-packages (from cycler>=0.10.0->yellowbrick) (1.15.0)\n",
      "Requirement already satisfied: python-dateutil>=2.7 in c:\\users\\lenovo\\anaconda3\\lib\\site-packages (from matplotlib->bioinfokit) (2.8.2)\n",
      "Requirement already satisfied: pyparsing>=2.2.1 in c:\\users\\lenovo\\anaconda3\\lib\\site-packages (from matplotlib->bioinfokit) (3.0.4)\n",
      "Requirement already satisfied: kiwisolver>=1.0.1 in c:\\users\\lenovo\\anaconda3\\lib\\site-packages (from matplotlib->bioinfokit) (1.3.1)\n",
      "Requirement already satisfied: pillow>=6.2.0 in c:\\users\\lenovo\\anaconda3\\lib\\site-packages (from matplotlib->bioinfokit) (8.4.0)\n",
      "Collecting numpy>=1.17.3\n",
      "  Downloading numpy-1.22.4-cp39-cp39-win_amd64.whl (14.7 MB)\n",
      "Requirement already satisfied: pytz>=2017.3 in c:\\users\\lenovo\\anaconda3\\lib\\site-packages (from pandas->bioinfokit) (2021.3)\n",
      "Requirement already satisfied: patsy>=0.5.2 in c:\\users\\lenovo\\anaconda3\\lib\\site-packages (from statsmodels->bioinfokit) (0.5.2)\n",
      "Requirement already satisfied: packaging>=21.3 in c:\\users\\lenovo\\anaconda3\\lib\\site-packages (from statsmodels->bioinfokit) (23.0)\n",
      "Installing collected packages: numpy\n",
      "  Attempting uninstall: numpy\n",
      "    Found existing installation: numpy 1.24.3\n",
      "    Uninstalling numpy-1.24.3:\n",
      "      Successfully uninstalled numpy-1.24.3\n"
     ]
    }
   ],
   "source": [
    "pip install --upgrade scikit-learn bioinfokit yellowbrick"
   ]
  },
  {
   "cell_type": "code",
   "execution_count": 32,
   "metadata": {},
   "outputs": [
    {
     "name": "stdout",
     "output_type": "stream",
     "text": [
      "Requirement already satisfied: scikit-learn in c:\\users\\lenovo\\anaconda3\\lib\\site-packages (1.2.2)Note: you may need to restart the kernel to use updated packages.\n",
      "Requirement already satisfied: threadpoolctl>=2.0.0 in c:\\users\\lenovo\\anaconda3\\lib\\site-packages (from scikit-learn) (3.1.0)\n",
      "Requirement already satisfied: scipy>=1.3.2 in c:\\users\\lenovo\\anaconda3\\lib\\site-packages (from scikit-learn) (1.7.1)\n",
      "Requirement already satisfied: joblib>=1.1.1 in c:\\users\\lenovo\\anaconda3\\lib\\site-packages (from scikit-learn) (1.2.0)\n",
      "Requirement already satisfied: numpy>=1.17.3 in c:\\users\\lenovo\\anaconda3\\lib\\site-packages (from scikit-learn) (1.22.4)\n",
      "\n"
     ]
    }
   ],
   "source": [
    "pip install --upgrade scikit-learn --user"
   ]
  },
  {
   "cell_type": "markdown",
   "metadata": {},
   "source": [
    "### Applying KMeans Algorithm"
   ]
  },
  {
   "cell_type": "code",
   "execution_count": 26,
   "metadata": {},
   "outputs": [
    {
     "name": "stdout",
     "output_type": "stream",
     "text": [
      "Labels: [3 2 2 ... 2 1 0]\n",
      "WCSS: 1937.855600561742\n",
      "No. of iterations:  8\n",
      "Cluster centroids:  [[0.02083333 0.66666667 0.075      0.91666667 0.7125     0.74583333\n",
      "  0.07083333 0.0875     0.90833333 0.0625     0.71666667 0.59166667]\n",
      " [0.93005671 0.97920605 0.08884688 0.78071834 0.34215501 0.96219282\n",
      "  0.93761815 0.97920605 0.01323251 0.33648393 0.04536862 0.36483932]\n",
      " [0.88328076 0.96529968 0.13249211 0.9022082  0.58044164 0.85173502\n",
      "  0.11356467 0.92744479 0.9022082  0.20820189 0.11041009 0.5488959 ]\n",
      " [0.02608696 0.91014493 0.08405797 0.93043478 0.63188406 0.95072464\n",
      "  0.87826087 0.24927536 0.01449275 0.08115942 0.34492754 0.43478261]]\n",
      "Cluster size:  Counter({1: 529, 3: 345, 2: 317, 0: 240})\n"
     ]
    }
   ],
   "source": [
    "from collections import Counter\n",
    "# k-means clustering \n",
    "kmeans = KMeans(n_clusters=4, init='k-means++', random_state=0).fit(preprocessed_data)\n",
    "data['cluster_num'] = kmeans.labels_ #adding to df\n",
    "# label assigned for each data point\n",
    "print ('Labels:', kmeans.labels_)\n",
    "# gives within-cluster sum of squares (WCSS) \n",
    "print ('WCSS:', kmeans.inertia_)\n",
    "# number of iterations that k-means algorithm runs to get a minimum within-cluster sum of squares\n",
    "print('No. of iterations: ', kmeans.n_iter_)\n",
    "# location of the centroids on each cluster\n",
    "print('Cluster centroids: ', kmeans.cluster_centers_)\n",
    "# checking each cluster size\n",
    "print('Cluster size: ', Counter(kmeans.labels_))"
   ]
  },
  {
   "cell_type": "code",
   "execution_count": 27,
   "metadata": {},
   "outputs": [
    {
     "data": {
      "image/png": "[encoded data removed]",
      "text/plain": [
       "<Figure size 576x396 with 1 Axes>"
      ]
     },
     "metadata": {},
     "output_type": "display_data"
    }
   ],
   "source": [
    "# cluster visualization\n",
    "sns.scatterplot(data=pf, x=\"pc1\", y=\"pc2\", hue=kmeans.labels_)\n",
    "plt.legend()\n",
    "plt.show()"
   ]
  },
  {
   "cell_type": "code",
   "execution_count": 28,
   "metadata": {},
   "outputs": [
    {
     "name": "stdout",
     "output_type": "stream",
     "text": [
      "Requirement already satisfied: bioinfokit in c:\\users\\lenovo\\anaconda3\\lib\\site-packages (2.1.0)\n",
      "Requirement already satisfied: statsmodels in c:\\users\\lenovo\\anaconda3\\lib\\site-packages (from bioinfokit) (0.13.5)\n",
      "Requirement already satisfied: seaborn in c:\\users\\lenovo\\anaconda3\\lib\\site-packages (from bioinfokit) (0.11.2)\n",
      "Requirement already satisfied: matplotlib-venn in c:\\users\\lenovo\\anaconda3\\lib\\site-packages (from bioinfokit) (0.11.9)\n",
      "Requirement already satisfied: matplotlib in c:\\users\\lenovo\\anaconda3\\lib\\site-packages (from bioinfokit) (3.4.3)\n",
      "Requirement already satisfied: numpy in c:\\users\\lenovo\\anaconda3\\lib\\site-packages (from bioinfokit) (1.22.4)\n",
      "Requirement already satisfied: scikit-learn in c:\\users\\lenovo\\anaconda3\\lib\\site-packages (from bioinfokit) (1.2.2)\n",
      "Requirement already satisfied: pandas in c:\\users\\lenovo\\anaconda3\\lib\\site-packages (from bioinfokit) (1.3.4)\n",
      "Requirement already satisfied: scipy in c:\\users\\lenovo\\anaconda3\\lib\\site-packages (from bioinfokit) (1.7.1)\n",
      "Requirement already satisfied: tabulate in c:\\users\\lenovo\\anaconda3\\lib\\site-packages (from bioinfokit) (0.9.0)\n",
      "Requirement already satisfied: adjustText in c:\\users\\lenovo\\anaconda3\\lib\\site-packages (from bioinfokit) (0.8)\n",
      "Requirement already satisfied: textwrap3 in c:\\users\\lenovo\\anaconda3\\lib\\site-packages (from bioinfokit) (0.9.2)\n",
      "Requirement already satisfied: pyparsing>=2.2.1 in c:\\users\\lenovo\\anaconda3\\lib\\site-packages (from matplotlib->bioinfokit) (3.0.4)\n",
      "Requirement already satisfied: python-dateutil>=2.7 in c:\\users\\lenovo\\anaconda3\\lib\\site-packages (from matplotlib->bioinfokit) (2.8.2)\n",
      "Requirement already satisfied: pillow>=6.2.0 in c:\\users\\lenovo\\anaconda3\\lib\\site-packages (from matplotlib->bioinfokit) (8.4.0)\n",
      "Requirement already satisfied: kiwisolver>=1.0.1 in c:\\users\\lenovo\\anaconda3\\lib\\site-packages (from matplotlib->bioinfokit) (1.3.1)\n",
      "Requirement already satisfied: cycler>=0.10 in c:\\users\\lenovo\\anaconda3\\lib\\site-packages (from matplotlib->bioinfokit) (0.10.0)\n",
      "Requirement already satisfied: six in c:\\users\\lenovo\\anaconda3\\lib\\site-packages (from cycler>=0.10->matplotlib->bioinfokit) (1.15.0)\n",
      "Requirement already satisfied: pytz>=2017.3 in c:\\users\\lenovo\\anaconda3\\lib\\site-packages (from pandas->bioinfokit) (2021.3)\n",
      "Requirement already satisfied: joblib>=1.1.1 in c:\\users\\lenovo\\anaconda3\\lib\\site-packages (from scikit-learn->bioinfokit) (1.2.0)\n",
      "Requirement already satisfied: threadpoolctl>=2.0.0 in c:\\users\\lenovo\\anaconda3\\lib\\site-packages (from scikit-learn->bioinfokit) (3.1.0)\n",
      "Requirement already satisfied: packaging>=21.3 in c:\\users\\lenovo\\anaconda3\\lib\\site-packages (from statsmodels->bioinfokit) (23.0)\n",
      "Requirement already satisfied: patsy>=0.5.2 in c:\\users\\lenovo\\anaconda3\\lib\\site-packages (from statsmodels->bioinfokit) (0.5.2)\n"
     ]
    }
   ],
   "source": [
    "!pip install bioinfokit"
   ]
  },
  {
   "cell_type": "markdown",
   "metadata": {},
   "source": [
    "### Analysing The stability of Clusters"
   ]
  },
  {
   "cell_type": "code",
   "execution_count": 28,
   "metadata": {},
   "outputs": [
    {
     "data": {
      "image/png": "[encoded data removed]",
      "text/plain": [
       "<Figure size 576x396 with 1 Axes>"
      ]
     },
     "metadata": {},
     "output_type": "display_data"
    },
    {
     "data": {
      "text/plain": [
       "<AxesSubplot:title={'center':'Silhouette Plot of KMeans Clustering for 1431 Samples in 4 Centers'}, xlabel='silhouette coefficient values', ylabel='cluster label'>"
      ]
     },
     "execution_count": 28,
     "metadata": {},
     "output_type": "execute_result"
    }
   ],
   "source": [
    "from yellowbrick.cluster import SilhouetteVisualizer\n",
    "# Fit the model and visualize the silhouette plot\n",
    "visualizer = SilhouetteVisualizer(kmeans)\n",
    "visualizer.fit(preprocessed_data)  # Fit your preprocessed data to the model\n",
    "visualizer.show()"
   ]
  },
  {
   "cell_type": "code",
   "execution_count": 31,
   "metadata": {},
   "outputs": [
    {
     "name": "stdout",
     "output_type": "stream",
     "text": [
      "Collecting pyclustertend\n",
      "  Downloading pyclustertend-1.8.2-py3-none-any.whl (7.2 kB)\n",
      "Requirement already satisfied: numba<0.55.0,>=0.54.1 in c:\\users\\lenovo\\anaconda3\\lib\\site-packages (from pyclustertend) (0.54.1)\n",
      "Requirement already satisfied: matplotlib<4.0.0,>=3.3.3 in c:\\users\\lenovo\\anaconda3\\lib\\site-packages (from pyclustertend) (3.4.3)\n",
      "Collecting numpy==1.20.3\n",
      "  Downloading numpy-1.20.3-cp39-cp39-win_amd64.whl (13.7 MB)\n",
      "Requirement already satisfied: scikit-learn<2.0.0,>=1.1.2 in c:\\users\\lenovo\\anaconda3\\lib\\site-packages (from pyclustertend) (1.2.2)\n",
      "Requirement already satisfied: pandas<2.0.0,>=1.2.0 in c:\\users\\lenovo\\anaconda3\\lib\\site-packages (from pyclustertend) (1.3.4)\n",
      "Requirement already satisfied: cycler>=0.10 in c:\\users\\lenovo\\anaconda3\\lib\\site-packages (from matplotlib<4.0.0,>=3.3.3->pyclustertend) (0.10.0)\n",
      "Requirement already satisfied: pillow>=6.2.0 in c:\\users\\lenovo\\anaconda3\\lib\\site-packages (from matplotlib<4.0.0,>=3.3.3->pyclustertend) (8.4.0)\n",
      "Requirement already satisfied: pyparsing>=2.2.1 in c:\\users\\lenovo\\anaconda3\\lib\\site-packages (from matplotlib<4.0.0,>=3.3.3->pyclustertend) (3.0.4)\n",
      "Requirement already satisfied: python-dateutil>=2.7 in c:\\users\\lenovo\\anaconda3\\lib\\site-packages (from matplotlib<4.0.0,>=3.3.3->pyclustertend) (2.8.2)\n",
      "Requirement already satisfied: kiwisolver>=1.0.1 in c:\\users\\lenovo\\anaconda3\\lib\\site-packages (from matplotlib<4.0.0,>=3.3.3->pyclustertend) (1.3.1)\n",
      "Requirement already satisfied: six in c:\\users\\lenovo\\anaconda3\\lib\\site-packages (from cycler>=0.10->matplotlib<4.0.0,>=3.3.3->pyclustertend) (1.15.0)\n",
      "Requirement already satisfied: setuptools in c:\\users\\lenovo\\anaconda3\\lib\\site-packages (from numba<0.55.0,>=0.54.1->pyclustertend) (58.0.4)\n",
      "Requirement already satisfied: llvmlite<0.38,>=0.37.0rc1 in c:\\users\\lenovo\\anaconda3\\lib\\site-packages (from numba<0.55.0,>=0.54.1->pyclustertend) (0.37.0)\n",
      "Requirement already satisfied: pytz>=2017.3 in c:\\users\\lenovo\\anaconda3\\lib\\site-packages (from pandas<2.0.0,>=1.2.0->pyclustertend) (2021.3)\n",
      "Requirement already satisfied: joblib>=1.1.1 in c:\\users\\lenovo\\anaconda3\\lib\\site-packages (from scikit-learn<2.0.0,>=1.1.2->pyclustertend) (1.2.0)\n",
      "Requirement already satisfied: scipy>=1.3.2 in c:\\users\\lenovo\\anaconda3\\lib\\site-packages (from scikit-learn<2.0.0,>=1.1.2->pyclustertend) (1.7.1)\n",
      "Requirement already satisfied: threadpoolctl>=2.0.0 in c:\\users\\lenovo\\anaconda3\\lib\\site-packages (from scikit-learn<2.0.0,>=1.1.2->pyclustertend) (3.1.0)\n",
      "Installing collected packages: numpy, pyclustertend\n",
      "  Attempting uninstall: numpy\n",
      "    Found existing installation: numpy 1.22.4\n",
      "    Uninstalling numpy-1.22.4:\n",
      "      Successfully uninstalled numpy-1.22.4\n"
     ]
    },
    {
     "name": "stderr",
     "output_type": "stream",
     "text": [
      "ERROR: Could not install packages due to an OSError: [WinError 5] Access is denied: 'C:\\\\Users\\\\lenovo\\\\anaconda3\\\\Lib\\\\site-packages\\\\~~mpy\\\\.libs\\\\libopenblas.EL2C6PLE4ZYW3ECEVIV3OXXGRN2NRFM2.gfortran-win_amd64.dll'\n",
      "Consider using the `--user` option or check the permissions.\n",
      "\n"
     ]
    }
   ],
   "source": [
    "!pip install pyclustertend"
   ]
  },
  {
   "cell_type": "code",
   "execution_count": 30,
   "metadata": {},
   "outputs": [],
   "source": [
    "# from pyclustertend import SLSW\n",
    "# Generate SLSW plot\n",
    "# slsw = SLSW()\n",
    "# slsw.fit(preprocessed_data, kmeans.labels_)\n",
    "# slsw.plot()"
   ]
  },
  {
   "cell_type": "code",
   "execution_count": 33,
   "metadata": {},
   "outputs": [
    {
     "name": "stdout",
     "output_type": "stream",
     "text": [
      "Collecting pyclustertend\n",
      "  Using cached pyclustertend-1.8.2-py3-none-any.whl (7.2 kB)\n",
      "Requirement already satisfied: pandas<2.0.0,>=1.2.0 in c:\\users\\lenovo\\anaconda3\\lib\\site-packages (from pyclustertend) (1.3.4)\n",
      "Requirement already satisfied: matplotlib<4.0.0,>=3.3.3 in c:\\users\\lenovo\\anaconda3\\lib\\site-packages (from pyclustertend) (3.4.3)\n",
      "Requirement already satisfied: numba<0.55.0,>=0.54.1 in c:\\users\\lenovo\\anaconda3\\lib\\site-packages (from pyclustertend) (0.54.1)\n",
      "Requirement already satisfied: numpy==1.20.3 in c:\\users\\lenovo\\anaconda3\\lib\\site-packages (from pyclustertend) (1.20.3)\n",
      "Requirement already satisfied: scikit-learn<2.0.0,>=1.1.2 in c:\\users\\lenovo\\anaconda3\\lib\\site-packages (from pyclustertend) (1.2.2)\n",
      "Requirement already satisfied: python-dateutil>=2.7 in c:\\users\\lenovo\\anaconda3\\lib\\site-packages (from matplotlib<4.0.0,>=3.3.3->pyclustertend) (2.8.2)\n",
      "Requirement already satisfied: pyparsing>=2.2.1 in c:\\users\\lenovo\\anaconda3\\lib\\site-packages (from matplotlib<4.0.0,>=3.3.3->pyclustertend) (3.0.4)\n",
      "Requirement already satisfied: cycler>=0.10 in c:\\users\\lenovo\\anaconda3\\lib\\site-packages (from matplotlib<4.0.0,>=3.3.3->pyclustertend) (0.10.0)\n",
      "Requirement already satisfied: kiwisolver>=1.0.1 in c:\\users\\lenovo\\anaconda3\\lib\\site-packages (from matplotlib<4.0.0,>=3.3.3->pyclustertend) (1.3.1)\n",
      "Requirement already satisfied: pillow>=6.2.0 in c:\\users\\lenovo\\anaconda3\\lib\\site-packages (from matplotlib<4.0.0,>=3.3.3->pyclustertend) (8.4.0)\n",
      "Requirement already satisfied: six in c:\\users\\lenovo\\anaconda3\\lib\\site-packages (from cycler>=0.10->matplotlib<4.0.0,>=3.3.3->pyclustertend) (1.15.0)\n",
      "Requirement already satisfied: llvmlite<0.38,>=0.37.0rc1 in c:\\users\\lenovo\\anaconda3\\lib\\site-packages (from numba<0.55.0,>=0.54.1->pyclustertend) (0.37.0)\n",
      "Requirement already satisfied: setuptools in c:\\users\\lenovo\\anaconda3\\lib\\site-packages (from numba<0.55.0,>=0.54.1->pyclustertend) (58.0.4)\n",
      "Requirement already satisfied: pytz>=2017.3 in c:\\users\\lenovo\\anaconda3\\lib\\site-packages (from pandas<2.0.0,>=1.2.0->pyclustertend) (2021.3)\n",
      "Requirement already satisfied: scipy>=1.3.2 in c:\\users\\lenovo\\anaconda3\\lib\\site-packages (from scikit-learn<2.0.0,>=1.1.2->pyclustertend) (1.7.1)\n",
      "Requirement already satisfied: threadpoolctl>=2.0.0 in c:\\users\\lenovo\\anaconda3\\lib\\site-packages (from scikit-learn<2.0.0,>=1.1.2->pyclustertend) (3.1.0)\n",
      "Requirement already satisfied: joblib>=1.1.1 in c:\\users\\lenovo\\anaconda3\\lib\\site-packages (from scikit-learn<2.0.0,>=1.1.2->pyclustertend) (1.2.0)\n",
      "Installing collected packages: pyclustertend\n",
      "Successfully installed pyclustertend-1.8.2\n"
     ]
    }
   ],
   "source": [
    "!pip install --user pyclustertend"
   ]
  },
  {
   "cell_type": "code",
   "execution_count": 44,
   "metadata": {},
   "outputs": [
    {
     "name": "stdout",
     "output_type": "stream",
     "text": [
      "Requirement already satisfied: numba in c:\\users\\lenovo\\anaconda3\\lib\\site-packages (0.54.1)"
     ]
    },
    {
     "name": "stderr",
     "output_type": "stream",
     "text": [
      "  WARNING: The script f2py.exe is installed in 'C:\\Users\\lenovo\\AppData\\Roaming\\Python\\Python39\\Scripts' which is not on PATH.\n",
      "  Consider adding this directory to PATH or, if you prefer to suppress this warning, use --no-warn-script-location.\n",
      "ERROR: pip's dependency resolver does not currently take into account all the packages that are installed. This behaviour is the source of the following dependency conflicts.\n",
      "pyclustertend 1.8.2 requires numba<0.55.0,>=0.54.1, but you have numba 0.57.0 which is incompatible.\n",
      "pyclustertend 1.8.2 requires numpy==1.20.3, but you have numpy 1.24.3 which is incompatible.\n",
      "ydata-profiling 4.0.0 requires numpy<1.24,>=1.16.0, but you have numpy 1.24.3 which is incompatible.\n",
      "scipy 1.7.1 requires numpy<1.23.0,>=1.16.5, but you have numpy 1.24.3 which is incompatible.\n"
     ]
    },
    {
     "name": "stdout",
     "output_type": "stream",
     "text": [
      "\n",
      "Collecting numba\n",
      "  Using cached numba-0.57.0-cp39-cp39-win_amd64.whl (2.6 MB)\n",
      "Collecting numpy<1.25,>=1.21\n",
      "  Using cached numpy-1.24.3-cp39-cp39-win_amd64.whl (14.9 MB)\n",
      "Collecting llvmlite<0.41,>=0.40.0dev0\n",
      "  Using cached llvmlite-0.40.0-cp39-cp39-win_amd64.whl (27.7 MB)\n",
      "Installing collected packages: numpy, llvmlite, numba\n",
      "Successfully installed llvmlite-0.40.0 numba-0.57.0 numpy-1.24.3\n"
     ]
    }
   ],
   "source": [
    "!pip install --upgrade --user numba"
   ]
  },
  {
   "cell_type": "code",
   "execution_count": 38,
   "metadata": {},
   "outputs": [
    {
     "name": "stdout",
     "output_type": "stream",
     "text": [
      "Collecting numpy==1.20"
     ]
    },
    {
     "name": "stderr",
     "output_type": "stream",
     "text": [
      "ERROR: pip's dependency resolver does not currently take into account all the packages that are installed. This behaviour is the source of the following dependency conflicts.\n",
      "daal4py 2021.3.0 requires daal==2021.2.3, which is not installed.\n",
      "pyclustertend 1.8.2 requires numpy==1.20.3, but you have numpy 1.20.0 which is incompatible.\n"
     ]
    },
    {
     "name": "stdout",
     "output_type": "stream",
     "text": [
      "\n",
      "  Downloading numpy-1.20.0-cp39-cp39-win_amd64.whl (13.7 MB)\n",
      "Installing collected packages: numpy\n",
      "  Attempting uninstall: numpy\n",
      "    Found existing installation: numpy 1.24.3\n",
      "    Uninstalling numpy-1.24.3:\n",
      "      Successfully uninstalled numpy-1.24.3\n",
      "Successfully installed numpy-1.20.0\n"
     ]
    }
   ],
   "source": [
    "!pip install numpy==1.20"
   ]
  },
  {
   "cell_type": "code",
   "execution_count": 41,
   "metadata": {},
   "outputs": [
    {
     "name": "stdout",
     "output_type": "stream",
     "text": [
      "Collecting daal==2021.2.3\n",
      "  Using cached daal-2021.2.3-py2.py3-none-win_amd64.whl (63.9 MB)\n",
      "Collecting tbb==2021.*\n",
      "  Using cached tbb-2021.9.0-py3-none-win_amd64.whl (283 kB)\n",
      "Installing collected packages: tbb, daal\n",
      "Successfully installed daal-2021.2.3 tbb-2021.9.0\n"
     ]
    }
   ],
   "source": [
    "!pip install --user daal==2021.2.3"
   ]
  },
  {
   "cell_type": "code",
   "execution_count": 42,
   "metadata": {},
   "outputs": [
    {
     "name": "stdout",
     "output_type": "stream",
     "text": [
      "Collecting numpy==1.20.3\n",
      "  Using cached numpy-1.20.3-cp39-cp39-win_amd64.whl (13.7 MB)\n",
      "Installing collected packages: numpy\n",
      "  Attempting uninstall: numpy\n",
      "    Found existing installation: numpy 1.20.0\n",
      "    Uninstalling numpy-1.20.0:\n",
      "      Successfully uninstalled numpy-1.20.0\n",
      "Successfully installed numpy-1.20.3\n"
     ]
    }
   ],
   "source": [
    "!pip install --upgrade numpy==1.20.3"
   ]
  },
  {
   "cell_type": "code",
   "execution_count": 43,
   "metadata": {},
   "outputs": [
    {
     "name": "stdout",
     "output_type": "stream",
     "text": [
      "Requirement already satisfied: pyclustertend in c:\\users\\lenovo\\appdata\\roaming\\python\\python39\\site-packages (1.8.2)\n",
      "Requirement already satisfied: matplotlib<4.0.0,>=3.3.3 in c:\\users\\lenovo\\anaconda3\\lib\\site-packages (from pyclustertend) (3.4.3)\n",
      "Requirement already satisfied: numba<0.55.0,>=0.54.1 in c:\\users\\lenovo\\anaconda3\\lib\\site-packages (from pyclustertend) (0.54.1)\n",
      "Requirement already satisfied: numpy==1.20.3 in c:\\users\\lenovo\\anaconda3\\lib\\site-packages (from pyclustertend) (1.20.3)\n",
      "Requirement already satisfied: scikit-learn<2.0.0,>=1.1.2 in c:\\users\\lenovo\\anaconda3\\lib\\site-packages (from pyclustertend) (1.2.2)\n",
      "Requirement already satisfied: pandas<2.0.0,>=1.2.0 in c:\\users\\lenovo\\anaconda3\\lib\\site-packages (from pyclustertend) (1.3.4)\n",
      "Requirement already satisfied: pyparsing>=2.2.1 in c:\\users\\lenovo\\anaconda3\\lib\\site-packages (from matplotlib<4.0.0,>=3.3.3->pyclustertend) (3.0.4)\n",
      "Requirement already satisfied: kiwisolver>=1.0.1 in c:\\users\\lenovo\\anaconda3\\lib\\site-packages (from matplotlib<4.0.0,>=3.3.3->pyclustertend) (1.3.1)\n",
      "Requirement already satisfied: python-dateutil>=2.7 in c:\\users\\lenovo\\anaconda3\\lib\\site-packages (from matplotlib<4.0.0,>=3.3.3->pyclustertend) (2.8.2)\n",
      "Requirement already satisfied: cycler>=0.10 in c:\\users\\lenovo\\anaconda3\\lib\\site-packages (from matplotlib<4.0.0,>=3.3.3->pyclustertend) (0.10.0)\n",
      "Requirement already satisfied: pillow>=6.2.0 in c:\\users\\lenovo\\anaconda3\\lib\\site-packages (from matplotlib<4.0.0,>=3.3.3->pyclustertend) (8.4.0)\n",
      "Requirement already satisfied: six in c:\\users\\lenovo\\anaconda3\\lib\\site-packages (from cycler>=0.10->matplotlib<4.0.0,>=3.3.3->pyclustertend) (1.15.0)\n",
      "Requirement already satisfied: setuptools in c:\\users\\lenovo\\anaconda3\\lib\\site-packages (from numba<0.55.0,>=0.54.1->pyclustertend) (58.0.4)\n",
      "Requirement already satisfied: llvmlite<0.38,>=0.37.0rc1 in c:\\users\\lenovo\\anaconda3\\lib\\site-packages (from numba<0.55.0,>=0.54.1->pyclustertend) (0.37.0)\n",
      "Requirement already satisfied: pytz>=2017.3 in c:\\users\\lenovo\\anaconda3\\lib\\site-packages (from pandas<2.0.0,>=1.2.0->pyclustertend) (2021.3)\n",
      "Requirement already satisfied: scipy>=1.3.2 in c:\\users\\lenovo\\anaconda3\\lib\\site-packages (from scikit-learn<2.0.0,>=1.1.2->pyclustertend) (1.7.1)\n",
      "Requirement already satisfied: joblib>=1.1.1 in c:\\users\\lenovo\\anaconda3\\lib\\site-packages (from scikit-learn<2.0.0,>=1.1.2->pyclustertend) (1.2.0)\n",
      "Requirement already satisfied: threadpoolctl>=2.0.0 in c:\\users\\lenovo\\anaconda3\\lib\\site-packages (from scikit-learn<2.0.0,>=1.1.2->pyclustertend) (3.1.0)\n"
     ]
    }
   ],
   "source": [
    "!pip install pyclustertend"
   ]
  },
  {
   "cell_type": "code",
   "execution_count": 46,
   "metadata": {},
   "outputs": [
    {
     "name": "stdout",
     "output_type": "stream",
     "text": [
      "Requirement already satisfied: numba in c:\\users\\lenovo\\appdata\\roaming\\python\\python39\\site-packages (0.57.0)\n",
      "Requirement already satisfied: llvmlite<0.41,>=0.40.0dev0 in c:\\users\\lenovo\\appdata\\roaming\\python\\python39\\site-packages (from numba) (0.40.0)\n",
      "Requirement already satisfied: numpy<1.25,>=1.21 in c:\\users\\lenovo\\appdata\\roaming\\python\\python39\\site-packages (from numba) (1.24.3)\n"
     ]
    }
   ],
   "source": [
    "!pip install --upgrade numba"
   ]
  },
  {
   "cell_type": "code",
   "execution_count": 34,
   "metadata": {},
   "outputs": [
    {
     "name": "stdout",
     "output_type": "stream",
     "text": [
      "Requirement already satisfied: pyclustertend in c:\\users\\lenovo\\appdata\\roaming\\python\\python39\\site-packages (1.8.2)\n",
      "Requirement already satisfied: pandas<2.0.0,>=1.2.0 in c:\\users\\lenovo\\anaconda3\\lib\\site-packages (from pyclustertend) (1.3.4)\n",
      "Requirement already satisfied: scikit-learn<2.0.0,>=1.1.2 in c:\\users\\lenovo\\anaconda3\\lib\\site-packages (from pyclustertend) (1.2.2)\n",
      "Requirement already satisfied: numpy==1.20.3 in c:\\users\\lenovo\\anaconda3\\lib\\site-packages (from pyclustertend) (1.20.3)\n",
      "Requirement already satisfied: matplotlib<4.0.0,>=3.3.3 in c:\\users\\lenovo\\anaconda3\\lib\\site-packages (from pyclustertend) (3.4.3)\n",
      "Requirement already satisfied: numba<0.55.0,>=0.54.1 in c:\\users\\lenovo\\anaconda3\\lib\\site-packages (from pyclustertend) (0.54.1)\n",
      "Requirement already satisfied: cycler>=0.10 in c:\\users\\lenovo\\anaconda3\\lib\\site-packages (from matplotlib<4.0.0,>=3.3.3->pyclustertend) (0.10.0)\n",
      "Requirement already satisfied: kiwisolver>=1.0.1 in c:\\users\\lenovo\\anaconda3\\lib\\site-packages (from matplotlib<4.0.0,>=3.3.3->pyclustertend) (1.3.1)\n",
      "Requirement already satisfied: python-dateutil>=2.7 in c:\\users\\lenovo\\anaconda3\\lib\\site-packages (from matplotlib<4.0.0,>=3.3.3->pyclustertend) (2.8.2)\n",
      "Requirement already satisfied: pillow>=6.2.0 in c:\\users\\lenovo\\anaconda3\\lib\\site-packages (from matplotlib<4.0.0,>=3.3.3->pyclustertend) (8.4.0)\n",
      "Requirement already satisfied: pyparsing>=2.2.1 in c:\\users\\lenovo\\anaconda3\\lib\\site-packages (from matplotlib<4.0.0,>=3.3.3->pyclustertend) (3.0.4)\n",
      "Requirement already satisfied: six in c:\\users\\lenovo\\anaconda3\\lib\\site-packages (from cycler>=0.10->matplotlib<4.0.0,>=3.3.3->pyclustertend) (1.15.0)\n",
      "Requirement already satisfied: setuptools in c:\\users\\lenovo\\anaconda3\\lib\\site-packages (from numba<0.55.0,>=0.54.1->pyclustertend) (58.0.4)\n",
      "Requirement already satisfied: llvmlite<0.38,>=0.37.0rc1 in c:\\users\\lenovo\\anaconda3\\lib\\site-packages (from numba<0.55.0,>=0.54.1->pyclustertend) (0.37.0)\n",
      "Requirement already satisfied: pytz>=2017.3 in c:\\users\\lenovo\\anaconda3\\lib\\site-packages (from pandas<2.0.0,>=1.2.0->pyclustertend) (2021.3)\n",
      "Requirement already satisfied: joblib>=1.1.1 in c:\\users\\lenovo\\anaconda3\\lib\\site-packages (from scikit-learn<2.0.0,>=1.1.2->pyclustertend) (1.2.0)\n",
      "Requirement already satisfied: threadpoolctl>=2.0.0 in c:\\users\\lenovo\\anaconda3\\lib\\site-packages (from scikit-learn<2.0.0,>=1.1.2->pyclustertend) (3.1.0)\n",
      "Requirement already satisfied: scipy>=1.3.2 in c:\\users\\lenovo\\anaconda3\\lib\\site-packages (from scikit-learn<2.0.0,>=1.1.2->pyclustertend) (1.7.1)\n"
     ]
    }
   ],
   "source": [
    "!pip install --user --upgrade pyclustertend"
   ]
  },
  {
   "cell_type": "markdown",
   "metadata": {},
   "source": [
    "### Describing The Segments"
   ]
  },
  {
   "cell_type": "code",
   "execution_count": 63,
   "metadata": {},
   "outputs": [
    {
     "data": {
      "image/png": "[encoded data removed]",
      "text/plain": [
       "<Figure size 504x504 with 3 Axes>"
      ]
     },
     "metadata": {},
     "output_type": "display_data"
    },
    {
     "data": {
      "text/html": [
       "<div>\n",
       "<style scoped>\n",
       "    .dataframe tbody tr th:only-of-type {\n",
       "        vertical-align: middle;\n",
       "    }\n",
       "\n",
       "    .dataframe tbody tr th {\n",
       "        vertical-align: top;\n",
       "    }\n",
       "\n",
       "    .dataframe thead th {\n",
       "        text-align: right;\n",
       "    }\n",
       "</style>\n",
       "<table border=\"1\" class=\"dataframe\">\n",
       "  <thead>\n",
       "    <tr style=\"text-align: right;\">\n",
       "      <th>Like</th>\n",
       "      <th>-4</th>\n",
       "      <th>-3</th>\n",
       "      <th>-2</th>\n",
       "      <th>-1</th>\n",
       "      <th>0</th>\n",
       "      <th>+1</th>\n",
       "      <th>+2</th>\n",
       "      <th>+3</th>\n",
       "      <th>+4</th>\n",
       "    </tr>\n",
       "    <tr>\n",
       "      <th>cluster_num</th>\n",
       "      <th></th>\n",
       "      <th></th>\n",
       "      <th></th>\n",
       "      <th></th>\n",
       "      <th></th>\n",
       "      <th></th>\n",
       "      <th></th>\n",
       "      <th></th>\n",
       "      <th></th>\n",
       "    </tr>\n",
       "  </thead>\n",
       "  <tbody>\n",
       "    <tr>\n",
       "      <th>0</th>\n",
       "      <td>27</td>\n",
       "      <td>31</td>\n",
       "      <td>18</td>\n",
       "      <td>12</td>\n",
       "      <td>35</td>\n",
       "      <td>13</td>\n",
       "      <td>7</td>\n",
       "      <td>9</td>\n",
       "      <td>0</td>\n",
       "    </tr>\n",
       "    <tr>\n",
       "      <th>1</th>\n",
       "      <td>4</td>\n",
       "      <td>2</td>\n",
       "      <td>6</td>\n",
       "      <td>10</td>\n",
       "      <td>37</td>\n",
       "      <td>51</td>\n",
       "      <td>82</td>\n",
       "      <td>136</td>\n",
       "      <td>105</td>\n",
       "    </tr>\n",
       "    <tr>\n",
       "      <th>2</th>\n",
       "      <td>3</td>\n",
       "      <td>6</td>\n",
       "      <td>6</td>\n",
       "      <td>7</td>\n",
       "      <td>33</td>\n",
       "      <td>44</td>\n",
       "      <td>55</td>\n",
       "      <td>65</td>\n",
       "      <td>48</td>\n",
       "    </tr>\n",
       "    <tr>\n",
       "      <th>3</th>\n",
       "      <td>36</td>\n",
       "      <td>34</td>\n",
       "      <td>29</td>\n",
       "      <td>29</td>\n",
       "      <td>63</td>\n",
       "      <td>44</td>\n",
       "      <td>36</td>\n",
       "      <td>15</td>\n",
       "      <td>3</td>\n",
       "    </tr>\n",
       "  </tbody>\n",
       "</table>\n",
       "</div>"
      ],
      "text/plain": [
       "Like         -4  -3  -2  -1   0  +1  +2   +3   +4\n",
       "cluster_num                                      \n",
       "0            27  31  18  12  35  13   7    9    0\n",
       "1             4   2   6  10  37  51  82  136  105\n",
       "2             3   6   6   7  33  44  55   65   48\n",
       "3            36  34  29  29  63  44  36   15    3"
      ]
     },
     "metadata": {},
     "output_type": "display_data"
    },
    {
     "data": {
      "text/plain": [
       "None"
      ]
     },
     "metadata": {},
     "output_type": "display_data"
    }
   ],
   "source": [
    "from statsmodels.graphics.mosaicplot import mosaic\n",
    "# crosstab creation\n",
    "crosstab = pd.crosstab(data['cluster_num'], df['Like'])\n",
    "crosstab = crosstab[['-4','-3','-2','-1','0','+1','+2','+3','+4']]\n",
    "crosstab\n",
    "\n",
    "# plotting mosaic plot\n",
    "plt.rcParams['figure.figsize'] = (7,7)\n",
    "mosaic(crosstab.stack())\n",
    "display(crosstab, plt.show())"
   ]
  },
  {
   "cell_type": "code",
   "execution_count": 64,
   "metadata": {},
   "outputs": [
    {
     "data": {
      "image/png": "[encoded data removed]",
      "text/plain": [
       "<Figure size 504x360 with 3 Axes>"
      ]
     },
     "metadata": {},
     "output_type": "display_data"
    },
    {
     "data": {
      "text/html": [
       "<div>\n",
       "<style scoped>\n",
       "    .dataframe tbody tr th:only-of-type {\n",
       "        vertical-align: middle;\n",
       "    }\n",
       "\n",
       "    .dataframe tbody tr th {\n",
       "        vertical-align: top;\n",
       "    }\n",
       "\n",
       "    .dataframe thead th {\n",
       "        text-align: right;\n",
       "    }\n",
       "</style>\n",
       "<table border=\"1\" class=\"dataframe\">\n",
       "  <thead>\n",
       "    <tr style=\"text-align: right;\">\n",
       "      <th>Like</th>\n",
       "      <th>-4</th>\n",
       "      <th>-3</th>\n",
       "      <th>-2</th>\n",
       "      <th>-1</th>\n",
       "      <th>0</th>\n",
       "      <th>+1</th>\n",
       "      <th>+2</th>\n",
       "      <th>+3</th>\n",
       "      <th>+4</th>\n",
       "    </tr>\n",
       "    <tr>\n",
       "      <th>cluster_num</th>\n",
       "      <th></th>\n",
       "      <th></th>\n",
       "      <th></th>\n",
       "      <th></th>\n",
       "      <th></th>\n",
       "      <th></th>\n",
       "      <th></th>\n",
       "      <th></th>\n",
       "      <th></th>\n",
       "    </tr>\n",
       "  </thead>\n",
       "  <tbody>\n",
       "    <tr>\n",
       "      <th>0</th>\n",
       "      <td>27</td>\n",
       "      <td>31</td>\n",
       "      <td>18</td>\n",
       "      <td>12</td>\n",
       "      <td>35</td>\n",
       "      <td>13</td>\n",
       "      <td>7</td>\n",
       "      <td>9</td>\n",
       "      <td>0</td>\n",
       "    </tr>\n",
       "    <tr>\n",
       "      <th>1</th>\n",
       "      <td>4</td>\n",
       "      <td>2</td>\n",
       "      <td>6</td>\n",
       "      <td>10</td>\n",
       "      <td>37</td>\n",
       "      <td>51</td>\n",
       "      <td>82</td>\n",
       "      <td>136</td>\n",
       "      <td>105</td>\n",
       "    </tr>\n",
       "    <tr>\n",
       "      <th>2</th>\n",
       "      <td>3</td>\n",
       "      <td>6</td>\n",
       "      <td>6</td>\n",
       "      <td>7</td>\n",
       "      <td>33</td>\n",
       "      <td>44</td>\n",
       "      <td>55</td>\n",
       "      <td>65</td>\n",
       "      <td>48</td>\n",
       "    </tr>\n",
       "    <tr>\n",
       "      <th>3</th>\n",
       "      <td>36</td>\n",
       "      <td>34</td>\n",
       "      <td>29</td>\n",
       "      <td>29</td>\n",
       "      <td>63</td>\n",
       "      <td>44</td>\n",
       "      <td>36</td>\n",
       "      <td>15</td>\n",
       "      <td>3</td>\n",
       "    </tr>\n",
       "  </tbody>\n",
       "</table>\n",
       "</div>"
      ],
      "text/plain": [
       "Like         -4  -3  -2  -1   0  +1  +2   +3   +4\n",
       "cluster_num                                      \n",
       "0            27  31  18  12  35  13   7    9    0\n",
       "1             4   2   6  10  37  51  82  136  105\n",
       "2             3   6   6   7  33  44  55   65   48\n",
       "3            36  34  29  29  63  44  36   15    3"
      ]
     },
     "metadata": {},
     "output_type": "display_data"
    },
    {
     "data": {
      "text/plain": [
       "None"
      ]
     },
     "metadata": {},
     "output_type": "display_data"
    }
   ],
   "source": [
    "# crosstab creation\n",
    "crosstab_gender = pd.crosstab(data['cluster_num'],df['Gender'])\n",
    "crosstab_gender\n",
    "\n",
    "# plotting mosaic plot\n",
    "plt.rcParams['figure.figsize'] = (7,5)\n",
    "mosaic(crosstab_gender.stack())\n",
    "display(crosstab, plt.show())"
   ]
  },
  {
   "cell_type": "code",
   "execution_count": null,
   "metadata": {},
   "outputs": [],
   "source": []
  }
 ],
 "metadata": {
  "kernelspec": {
   "display_name": "Python 3",
   "language": "python",
   "name": "python3"
  },
  "language_info": {
   "codemirror_mode": {
    "name": "ipython",
    "version": 3
   },
   "file_extension": ".py",
   "mimetype": "text/x-python",
   "name": "python",
   "nbconvert_exporter": "python",
   "pygments_lexer": "ipython3",
   "version": "3.6.5"
  }
 },
 "nbformat": 4,
 "nbformat_minor": 5
}
